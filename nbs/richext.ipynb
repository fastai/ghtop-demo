{
 "cells": [
  {
   "cell_type": "code",
   "execution_count": 1,
   "metadata": {},
   "outputs": [],
   "source": [
    "#default_exp richext"
   ]
  },
  {
   "cell_type": "markdown",
   "metadata": {},
   "source": [
    "# Extensions To Rich\n",
    "\n",
    "Extensions to rich for ghtop."
   ]
  },
  {
   "cell_type": "code",
   "execution_count": 2,
   "metadata": {},
   "outputs": [],
   "source": [
    "#export\n",
    "import time,random\n",
    "from dataclasses import dataclass\n",
    "from typing import List\n",
    "from collections import deque, OrderedDict, namedtuple\n",
    "from ghtop.all_rich import (Console, Color, FixedPanel, box, Segments, Live,\n",
    "                            grid, ConsoleOptions, Progress, BarColumn, Spinner)\n",
    "from ghapi.event import *\n",
    "from fastcore.all import *\n",
    "console = Console()\n"
   ]
  },
  {
   "cell_type": "code",
   "execution_count": 3,
   "metadata": {},
   "outputs": [],
   "source": [
    "evts = load_sample_events()\n",
    "exs = [first(evts, risinstance(o)) for o in described_evts]"
   ]
  },
  {
   "cell_type": "markdown",
   "metadata": {},
   "source": [
    "## Animated Stats\n",
    "\n",
    "This section outlines how we can display statistics and visualizations such as sparklines and status bars that are animated as events are received."
   ]
  },
  {
   "cell_type": "markdown",
   "metadata": {},
   "source": [
    "### `EProg` - Progress Bar"
   ]
  },
  {
   "cell_type": "code",
   "execution_count": 4,
   "metadata": {},
   "outputs": [],
   "source": [
    "#export\n",
    "class EProg:\n",
    "    \"Progress bar with a heading `hdg`.\"\n",
    "    def __init__(self, hdg='Quota', width=10):\n",
    "        self.prog = Progress(BarColumn(bar_width=width), \"[progress.percentage]{task.percentage:>3.0f}%\")\n",
    "        self.task = self.prog.add_task(\"\",total=100, visible=False)\n",
    "        store_attr()\n",
    "    def update(self, completed): self.prog.update(self.task, completed=completed)\n",
    "    def __rich_console__(self, console: Console, options: ConsoleOptions):\n",
    "        self.prog.update(self.task, visible=True)\n",
    "        yield grid([[\"Quota\"], [self.prog.get_renderable()]], width=self.width+2, expand=False)\n"
   ]
  },
  {
   "cell_type": "markdown",
   "metadata": {},
   "source": [
    "When you instantiate `Eprog` the starting progress is set to 0%:"
   ]
  },
  {
   "cell_type": "code",
   "execution_count": 5,
   "metadata": {},
   "outputs": [
    {
     "data": {
      "application/vnd.jupyter.widget-view+json": {
       "model_id": "d37239990fc8487fbd00de65e7f3f244",
       "version_major": 2,
       "version_minor": 0
      },
      "text/plain": [
       "Output()"
      ]
     },
     "metadata": {},
     "output_type": "display_data"
    },
    {
     "data": {
      "text/html": [
       "<pre style=\"white-space:pre;overflow-x:auto;line-height:normal;font-family:Menlo,'DejaVu Sans Mono',consolas,'Courier New',monospace\">   Quota    \n",
       "<span style=\"color: #3a3a3a\">━━━━━━━</span> <span style=\"color: #800080\">  0%</span>\n",
       "</pre>\n"
      ],
      "text/plain": [
       "<rich.jupyter.JupyterRenderable at 0x7faff8f36250>"
      ]
     },
     "metadata": {},
     "output_type": "display_data"
    }
   ],
   "source": [
    "p = EProg()\n",
    "console.print(p)"
   ]
  },
  {
   "cell_type": "markdown",
   "metadata": {},
   "source": [
    "You can update the progress bar with the `update` method:"
   ]
  },
  {
   "cell_type": "code",
   "execution_count": 6,
   "metadata": {},
   "outputs": [
    {
     "data": {
      "text/html": [
       "<pre style=\"white-space:pre;overflow-x:auto;line-height:normal;font-family:Menlo,'DejaVu Sans Mono',consolas,'Courier New',monospace\">   Quota    \n",
       "<span style=\"color: #f92672\">╸</span><span style=\"color: #3a3a3a\">━━━━━━</span> <span style=\"color: #800080\"> 10%</span>\n",
       "</pre>\n"
      ],
      "text/plain": [
       "<rich.jupyter.JupyterRenderable at 0x7fafd8672be0>"
      ]
     },
     "metadata": {},
     "output_type": "display_data"
    }
   ],
   "source": [
    "p.update(10)\n",
    "console.print(p)"
   ]
  },
  {
   "cell_type": "markdown",
   "metadata": {},
   "source": [
    "### `Espark` - A sparkline combined with an EventTimer\n",
    "\n",
    "fastcore's `EventTimer` calculates frequency metrics aggregated by slices of time specified by the argument `span`.  The `EventTimer` can produce a sparkline that shows the last n time slices, where n is specified by the parameter `store`:"
   ]
  },
  {
   "cell_type": "code",
   "execution_count": 7,
   "metadata": {},
   "outputs": [],
   "source": [
    "#export\n",
    "class ESpark(EventTimer):\n",
    "    \"An `EventTimer` that displays a sparkline with a heading `nm`.\"\n",
    "    def __init__(self, nm:str, color:str, ghevts:List[GhEvent]=None, store=5, span=.2, stacked=True): \n",
    "        super().__init__(store=store, span=span)\n",
    "        self.ghevts=L(ghevts)\n",
    "        store_attr('nm,color,store,span,stacked')\n",
    "    def _spark(self): return f\"[{self.color}]{self.freq:.0f} {sparkline(self.hist)}[/]\"\n",
    "    def _nm(self): return f\"[{self.color}]{self.nm}[/]\"\n",
    "    def __rich_console__(self, console: Console, options: ConsoleOptions): \n",
    "        yield grid([[self._nm()], [self._spark()]]) if self.stacked else f'{self._nm()}  {self._spark()}'\n",
    "    __repr__ = basic_repr('nm,color,ghevts')"
   ]
  },
  {
   "cell_type": "markdown",
   "metadata": {},
   "source": [
    "By default `nm` will be stacked on top of the sparkline.  We simulate adding events to `ESpark` and render the result:"
   ]
  },
  {
   "cell_type": "code",
   "execution_count": 8,
   "metadata": {},
   "outputs": [
    {
     "data": {
      "text/html": [
       "<pre style=\"white-space:pre;overflow-x:auto;line-height:normal;font-family:Menlo,'DejaVu Sans Mono',consolas,'Courier New',monospace\">                                           <span style=\"color: #000080\">💌Issue</span>                                           \n",
       "                                          <span style=\"color: #000080\">42 ▁▇▅▆▂</span>                                           \n",
       "</pre>\n"
      ],
      "text/plain": [
       "<rich.jupyter.JupyterRenderable at 0x7fafd8672d60>"
      ]
     },
     "metadata": {},
     "output_type": "display_data"
    }
   ],
   "source": [
    "e = ESpark(nm='💌Issue', color='blue')\n",
    "\n",
    "def _r(): return random.randint(1,30)\n",
    "\n",
    "def _sim(e, steps=8, sleep=.2):\n",
    "    for i in range(steps):\n",
    "        e.add(_r())\n",
    "        time.sleep(sleep)\n",
    "\n",
    "_sim(e)\n",
    "console.print(e)"
   ]
  },
  {
   "cell_type": "markdown",
   "metadata": {},
   "source": [
    "If you would prefer `nm` and the sparkline to be on one line instead, you can set `stacked` to `false`:"
   ]
  },
  {
   "cell_type": "code",
   "execution_count": 9,
   "metadata": {},
   "outputs": [
    {
     "data": {
      "text/html": [
       "<pre style=\"white-space:pre;overflow-x:auto;line-height:normal;font-family:Menlo,'DejaVu Sans Mono',consolas,'Courier New',monospace\"><span style=\"color: #000080\">💌Issue</span>  <span style=\"color: #000080\">67 ▁▃▆▇▁</span>\n",
       "</pre>\n"
      ],
      "text/plain": [
       "<rich.jupyter.JupyterRenderable at 0x7faff8f36430>"
      ]
     },
     "metadata": {},
     "output_type": "display_data"
    }
   ],
   "source": [
    "e = ESpark(color='blue', nm='💌Issue', stacked=False)\n",
    "_sim(e)\n",
    "console.print(e)"
   ]
  },
  {
   "cell_type": "code",
   "execution_count": 166,
   "metadata": {},
   "outputs": [
    {
     "data": {
      "text/plain": [
       "False"
      ]
     },
     "execution_count": 166,
     "metadata": {},
     "output_type": "execute_result"
    }
   ],
   "source": [
    "None in ['foo', 'bar']"
   ]
  },
  {
   "cell_type": "markdown",
   "metadata": {},
   "source": [
    "## New"
   ]
  },
  {
   "cell_type": "code",
   "execution_count": 176,
   "metadata": {},
   "outputs": [],
   "source": [
    "class SpkMap:\n",
    "    def __init__(self, spks:List[ESpark], default:str=None): \n",
    "        self.ev2spk={ev:s for s in spks for ev in s.ghevts}\n",
    "        self.names = [s.nm for s in spks]\n",
    "        if default: assert default in self.names, f'default value must be one of SpkCfg names: {self.names}'\n",
    "        self.defaultevt = first([s for s in spks if s.nm==default])\n",
    "        store_attr()\n",
    "    def __getitem__(self, k): return self.ev2spk[k] if not self.default else self.ev2spk.get(k, self.defaultevt)\n",
    "    def add_events(self, evs:GhEvent): L(evs).map(lambda x: self[x].add(1))\n",
    "    __repr__ = basic_repr('spks,default')"
   ]
  },
  {
   "cell_type": "code",
   "execution_count": 179,
   "metadata": {},
   "outputs": [],
   "source": [
    "s1 = ESpark('Issues', 'blue', [IssueCommentEvent, IssuesEvent])\n",
    "s2 = ESpark('PR', 'red', [PullRequestEvent, PullRequestReviewCommentEvent, PullRequestReviewEvent])\n",
    "s3 = ESpark('Other', 'red', span=60)\n",
    "\n",
    "sm = SpkMap(spks=[s1,s2,s3], default='Other')"
   ]
  },
  {
   "cell_type": "code",
   "execution_count": 180,
   "metadata": {},
   "outputs": [],
   "source": [
    "test_eq(sm[IssuesEvent], s1)\n",
    "test_eq(sm[PullRequestReviewCommentEvent], s2)\n",
    "test_eq(sm[ReleaseEvent], s3)\n",
    "test_eq(sm[WatchEvent], s3)"
   ]
  },
  {
   "cell_type": "code",
   "execution_count": 181,
   "metadata": {},
   "outputs": [],
   "source": [
    "for i in range(5): sm.add_events(WatchEvent)\n",
    "test_eq(sm[WatchEvent].events,5)"
   ]
  },
  {
   "cell_type": "markdown",
   "metadata": {},
   "source": [
    "### SparkGrp - Sparklines, Progress bars and Statistics Combined\n",
    "\n",
    "We may want to combine sparklines (with `ESpark`), spinners, and progress bars (with `EProg`) to display organized information concerning an event stream.  `SparkGrp` helps you create, group, display and update these elements together."
   ]
  },
  {
   "cell_type": "code",
   "execution_count": 141,
   "metadata": {},
   "outputs": [
    {
     "ename": "NameError",
     "evalue": "name 'SparkCfg' is not defined",
     "output_type": "error",
     "traceback": [
      "\u001b[0;31m-----------------------------------------------------\u001b[0m",
      "\u001b[0;31mNameError\u001b[0m           Traceback (most recent call last)",
      "\u001b[0;32m<ipython-input-141-2ffcabb8f8df>\u001b[0m in \u001b[0;36m<module>\u001b[0;34m\u001b[0m\n\u001b[1;32m      3\u001b[0m \u001b[0;34m\u001b[0m\u001b[0m\n\u001b[1;32m      4\u001b[0m \u001b[0;31m# TODO refactor this to incorporate SpkMap\u001b[0m\u001b[0;34m\u001b[0m\u001b[0;34m\u001b[0m\u001b[0;34m\u001b[0m\u001b[0m\n\u001b[0;32m----> 5\u001b[0;31m \u001b[0;32mclass\u001b[0m \u001b[0mSparkGrp\u001b[0m\u001b[0;34m:\u001b[0m\u001b[0;34m\u001b[0m\u001b[0;34m\u001b[0m\u001b[0m\n\u001b[0m\u001b[1;32m      6\u001b[0m     \u001b[0;34m\"Renders a group of `ESpark` along with a spinner and progress bar that are dynamically sized.\"\u001b[0m\u001b[0;34m\u001b[0m\u001b[0;34m\u001b[0m\u001b[0m\n\u001b[1;32m      7\u001b[0m     \u001b[0;32mdef\u001b[0m \u001b[0m__init__\u001b[0m\u001b[0;34m(\u001b[0m\u001b[0mself\u001b[0m\u001b[0;34m,\u001b[0m \u001b[0mspks\u001b[0m\u001b[0;34m:\u001b[0m\u001b[0mList\u001b[0m\u001b[0;34m[\u001b[0m\u001b[0mSparkCfg\u001b[0m\u001b[0;34m]\u001b[0m\u001b[0;34m,\u001b[0m \u001b[0mstore\u001b[0m\u001b[0;34m=\u001b[0m\u001b[0;36m5\u001b[0m\u001b[0;34m,\u001b[0m \u001b[0mspan\u001b[0m\u001b[0;34m=\u001b[0m\u001b[0;36m.2\u001b[0m\u001b[0;34m,\u001b[0m \u001b[0mstacked\u001b[0m\u001b[0;34m=\u001b[0m\u001b[0;32mTrue\u001b[0m\u001b[0;34m,\u001b[0m \u001b[0mmax_width\u001b[0m\u001b[0;34m=\u001b[0m\u001b[0mconsole\u001b[0m\u001b[0;34m.\u001b[0m\u001b[0mwidth\u001b[0m\u001b[0;34m-\u001b[0m\u001b[0;36m5\u001b[0m\u001b[0;34m,\u001b[0m \u001b[0mspin\u001b[0m\u001b[0;34m:\u001b[0m\u001b[0mstr\u001b[0m\u001b[0;34m=\u001b[0m\u001b[0;34m'earth'\u001b[0m\u001b[0;34m,\u001b[0m \u001b[0mspn_lbl\u001b[0m\u001b[0;34m=\u001b[0m\u001b[0;34m\"/min\"\u001b[0m\u001b[0;34m)\u001b[0m\u001b[0;34m:\u001b[0m\u001b[0;34m\u001b[0m\u001b[0;34m\u001b[0m\u001b[0m\n",
      "\u001b[0;32m<ipython-input-141-2ffcabb8f8df>\u001b[0m in \u001b[0;36mSparkGrp\u001b[0;34m()\u001b[0m\n\u001b[1;32m      5\u001b[0m \u001b[0;32mclass\u001b[0m \u001b[0mSparkGrp\u001b[0m\u001b[0;34m:\u001b[0m\u001b[0;34m\u001b[0m\u001b[0;34m\u001b[0m\u001b[0m\n\u001b[1;32m      6\u001b[0m     \u001b[0;34m\"Renders a group of `ESpark` along with a spinner and progress bar that are dynamically sized.\"\u001b[0m\u001b[0;34m\u001b[0m\u001b[0;34m\u001b[0m\u001b[0m\n\u001b[0;32m----> 7\u001b[0;31m     \u001b[0;32mdef\u001b[0m \u001b[0m__init__\u001b[0m\u001b[0;34m(\u001b[0m\u001b[0mself\u001b[0m\u001b[0;34m,\u001b[0m \u001b[0mspks\u001b[0m\u001b[0;34m:\u001b[0m\u001b[0mList\u001b[0m\u001b[0;34m[\u001b[0m\u001b[0mSparkCfg\u001b[0m\u001b[0;34m]\u001b[0m\u001b[0;34m,\u001b[0m \u001b[0mstore\u001b[0m\u001b[0;34m=\u001b[0m\u001b[0;36m5\u001b[0m\u001b[0;34m,\u001b[0m \u001b[0mspan\u001b[0m\u001b[0;34m=\u001b[0m\u001b[0;36m.2\u001b[0m\u001b[0;34m,\u001b[0m \u001b[0mstacked\u001b[0m\u001b[0;34m=\u001b[0m\u001b[0;32mTrue\u001b[0m\u001b[0;34m,\u001b[0m \u001b[0mmax_width\u001b[0m\u001b[0;34m=\u001b[0m\u001b[0mconsole\u001b[0m\u001b[0;34m.\u001b[0m\u001b[0mwidth\u001b[0m\u001b[0;34m-\u001b[0m\u001b[0;36m5\u001b[0m\u001b[0;34m,\u001b[0m \u001b[0mspin\u001b[0m\u001b[0;34m:\u001b[0m\u001b[0mstr\u001b[0m\u001b[0;34m=\u001b[0m\u001b[0;34m'earth'\u001b[0m\u001b[0;34m,\u001b[0m \u001b[0mspn_lbl\u001b[0m\u001b[0;34m=\u001b[0m\u001b[0;34m\"/min\"\u001b[0m\u001b[0;34m)\u001b[0m\u001b[0;34m:\u001b[0m\u001b[0;34m\u001b[0m\u001b[0;34m\u001b[0m\u001b[0m\n\u001b[0m\u001b[1;32m      8\u001b[0m         \u001b[0mself\u001b[0m\u001b[0;34m.\u001b[0m\u001b[0mspn\u001b[0m \u001b[0;34m=\u001b[0m \u001b[0mSpinner\u001b[0m\u001b[0;34m(\u001b[0m\u001b[0mspin\u001b[0m\u001b[0;34m)\u001b[0m\u001b[0;34m\u001b[0m\u001b[0;34m\u001b[0m\u001b[0m\n\u001b[1;32m      9\u001b[0m         \u001b[0mself\u001b[0m\u001b[0;34m.\u001b[0m\u001b[0msparklines\u001b[0m \u001b[0;34m=\u001b[0m \u001b[0mOrderedDict\u001b[0m\u001b[0;34m(\u001b[0m\u001b[0;34m{\u001b[0m\u001b[0ms\u001b[0m\u001b[0;34m.\u001b[0m\u001b[0mnm\u001b[0m\u001b[0;34m:\u001b[0m \u001b[0mESpark\u001b[0m\u001b[0;34m(\u001b[0m\u001b[0mcolor\u001b[0m\u001b[0;34m=\u001b[0m\u001b[0ms\u001b[0m\u001b[0;34m.\u001b[0m\u001b[0mcolor\u001b[0m\u001b[0;34m,\u001b[0m \u001b[0mnm\u001b[0m\u001b[0;34m=\u001b[0m\u001b[0ms\u001b[0m\u001b[0;34m.\u001b[0m\u001b[0mnm\u001b[0m\u001b[0;34m,\u001b[0m \u001b[0mstore\u001b[0m\u001b[0;34m=\u001b[0m\u001b[0mstore\u001b[0m\u001b[0;34m,\u001b[0m \u001b[0mspan\u001b[0m\u001b[0;34m=\u001b[0m\u001b[0mspan\u001b[0m\u001b[0;34m,\u001b[0m \u001b[0mstacked\u001b[0m\u001b[0;34m=\u001b[0m\u001b[0mstacked\u001b[0m\u001b[0;34m)\u001b[0m \u001b[0;32mfor\u001b[0m \u001b[0ms\u001b[0m \u001b[0;32min\u001b[0m \u001b[0mspks\u001b[0m\u001b[0;34m}\u001b[0m\u001b[0;34m)\u001b[0m\u001b[0;34m\u001b[0m\u001b[0;34m\u001b[0m\u001b[0m\n",
      "\u001b[0;31mNameError\u001b[0m: name 'SparkCfg' is not defined"
     ]
    }
   ],
   "source": [
    "#export\n",
    "Sfg = namedtuple('Sparkcfg', ['color', 'nm'])\n",
    "\n",
    "# TODO refactor this to incorporate SpkMap\n",
    "class SparkGrp:\n",
    "    \"Renders a group of `ESpark` along with a spinner and progress bar that are dynamically sized.\"\n",
    "    def __init__(self, spks:List[SparkCfg], store=5, span=.2, stacked=True, max_width=console.width-5, spin:str='earth', spn_lbl=\"/min\"):\n",
    "        self.spn = Spinner(spin)\n",
    "        self.sparklines = OrderedDict({s.nm: ESpark(color=s.color, nm=s.nm, store=store, span=span, stacked=stacked) for s in spks})\n",
    "        self.slen = len(self.sparklines) * max(15, store*2)\n",
    "        self.plen = max(max_width-self.slen-15, 15)\n",
    "        self.progbar = EProg(width=self.plen)\n",
    "        store_attr()\n",
    "        \n",
    "    def get_spk(self): \n",
    "        return grid([self.sparklines.values()], width=min(console.width-15, self.slen), expand=False)\n",
    "    \n",
    "    def get_spinner(self): return grid([[self.spn], [self.spn_lbl]])\n",
    "    \n",
    "    def update(self, events_dict:Dict[str,int], pct_complete:int=None):\n",
    "        for k in events_dict: \n",
    "            if k in self.sparklines: self.sparklines[k].add(events_dict[k])\n",
    "        if pct_complete: self.progbar.update(pct_complete)\n",
    "        \n",
    "    def __rich_console__(self, console: Console, options: ConsoleOptions): \n",
    "        yield grid([[self.get_spinner(), self.get_spk(), grid([[self.progbar]], width=self.plen+5) ]], width=self.max_width)\n"
   ]
  },
  {
   "cell_type": "code",
   "execution_count": 140,
   "metadata": {},
   "outputs": [
    {
     "data": {
      "text/plain": [
       "{1: 'a', 2: 'a', 3: 'a', 4: 'a', 5: 'd', 6: 'd', 7: 'd', 8: 'd'}"
      ]
     },
     "execution_count": 140,
     "metadata": {},
     "output_type": "execute_result"
    }
   ],
   "source": [
    "scs = [SpkCfg('a', 'blue', [1,2,3,4]), SpkCfg('d', 'blue', [5,6,7,8])]\n",
    "\n"
   ]
  },
  {
   "cell_type": "code",
   "execution_count": 207,
   "metadata": {},
   "outputs": [
    {
     "data": {
      "text/plain": [
       "True"
      ]
     },
     "execution_count": 207,
     "metadata": {},
     "output_type": "execute_result"
    }
   ],
   "source": [
    "od = OrderedDict({'a':1, 'b':2})\n",
    "1 in od.values()"
   ]
  },
  {
   "cell_type": "code",
   "execution_count": 134,
   "metadata": {},
   "outputs": [
    {
     "data": {
      "text/plain": [
       "(#4) [1,2,3,4]"
      ]
     },
     "execution_count": 134,
     "metadata": {},
     "output_type": "execute_result"
    }
   ],
   "source": [
    "c.events"
   ]
  },
  {
   "cell_type": "markdown",
   "metadata": {},
   "source": [
    "Instantiate a `SparkGrp` by passing in a list of `SparkCfg`.  This builds a group of `ESpark` sparklines which you can display like so:"
   ]
  },
  {
   "cell_type": "code",
   "execution_count": 11,
   "metadata": {},
   "outputs": [
    {
     "data": {
      "application/vnd.jupyter.widget-view+json": {
       "model_id": "8b2a480ef97c42cf8cc77a2d9815652e",
       "version_major": 2,
       "version_minor": 0
      },
      "text/plain": [
       "Output()"
      ]
     },
     "metadata": {},
     "output_type": "display_data"
    },
    {
     "data": {
      "text/html": [
       "<pre style=\"white-space:pre;overflow-x:auto;line-height:normal;font-family:Menlo,'DejaVu Sans Mono',consolas,'Courier New',monospace\"> 🌍      <span style=\"color: #000080\">⭐Push</span>         <span style=\"color: #800000\">🎁Issue</span>         <span style=\"color: #af00ff\">💌PRs</span>        <span style=\"color: #008000\">🚀Release</span>            Quota         \n",
       "/min        <span style=\"color: #000080\">0</span>              <span style=\"color: #800000\">0</span>              <span style=\"color: #af00ff\">0</span>              <span style=\"color: #008000\">0</span>          <span style=\"color: #3a3a3a\">━━━━━━━━━━━━</span> <span style=\"color: #800080\">  0%</span>   \n",
       "</pre>\n"
      ],
      "text/plain": [
       "<rich.jupyter.JupyterRenderable at 0x7fadd09fda90>"
      ]
     },
     "metadata": {},
     "output_type": "display_data"
    }
   ],
   "source": [
    "s = SparkGrp([SparkCfg('blue', '⭐Push'), \n",
    "              SparkCfg('red', '🎁Issue'), \n",
    "              SparkCfg('purple', '💌PRs'),\n",
    "              SparkCfg('green', '🚀Release'), \n",
    "             ], stacked=True)\n",
    "\n",
    "console.print(s)"
   ]
  },
  {
   "cell_type": "markdown",
   "metadata": {},
   "source": [
    "You can add events to all `ESpark` instances of the `SparkGrp` at once by passing a dictionary to the `update` method.  Furthermore, you can pass the `pct_complete` argument to `update` to advance the progress bar:"
   ]
  },
  {
   "cell_type": "code",
   "execution_count": 12,
   "metadata": {},
   "outputs": [
    {
     "data": {
      "text/html": [
       "<pre style=\"white-space:pre;overflow-x:auto;line-height:normal;font-family:Menlo,'DejaVu Sans Mono',consolas,'Courier New',monospace\"> 🌍      <span style=\"color: #000080\">⭐Push</span>         <span style=\"color: #800000\">🎁Issue</span>         <span style=\"color: #af00ff\">💌PRs</span>        <span style=\"color: #008000\">🚀Release</span>            Quota         \n",
       "/min       <span style=\"color: #000080\">149</span>            <span style=\"color: #800000\">249</span>            <span style=\"color: #af00ff\">279</span>            <span style=\"color: #008000\">116</span>         <span style=\"color: #f92672\">━━━━╸</span><span style=\"color: #3a3a3a\">━━━━━━━</span> <span style=\"color: #800080\"> 40%</span>   \n",
       "</pre>\n"
      ],
      "text/plain": [
       "<rich.jupyter.JupyterRenderable at 0x7fadd087d0a0>"
      ]
     },
     "metadata": {},
     "output_type": "display_data"
    }
   ],
   "source": [
    "def _d(): return {'⭐Push':_r(), '🎁Issue':_r(), '💌PRs':_r(), '🚀Release':_r()}\n",
    "\n",
    "s.update(_d())\n",
    "time.sleep(.1)\n",
    "s.update(_d(), pct_complete=40)\n",
    "\n",
    "console.print(s)"
   ]
  },
  {
   "cell_type": "markdown",
   "metadata": {},
   "source": [
    "Here is what this looks like when animated using `Live`:"
   ]
  },
  {
   "cell_type": "code",
   "execution_count": 13,
   "metadata": {},
   "outputs": [
    {
     "data": {
      "application/vnd.jupyter.widget-view+json": {
       "model_id": "e0f16c413be9413bb0cea1528944f24d",
       "version_major": 2,
       "version_minor": 0
      },
      "text/plain": [
       "Output()"
      ]
     },
     "metadata": {},
     "output_type": "display_data"
    }
   ],
   "source": [
    "def _sim_spark(s, sleep=.05):\n",
    "    with Live(refresh_per_second=20) as live:\n",
    "        for i in range(101):\n",
    "            evts = {k: _r() for k in s.sparklines.keys()}\n",
    "            s.update(evts, pct_complete=i)\n",
    "            live.update(s)\n",
    "            time.sleep(sleep)\n",
    "            \n",
    "_sim_spark(s)"
   ]
  },
  {
   "cell_type": "markdown",
   "metadata": {},
   "source": [
    "The progress bar will automatically resize depending on the number of sparklines you add to `SparkGrp`.  For example, if we only have one sparkline the width of objects dynamically change to look like this:"
   ]
  },
  {
   "cell_type": "code",
   "execution_count": 14,
   "metadata": {},
   "outputs": [
    {
     "data": {
      "application/vnd.jupyter.widget-view+json": {
       "model_id": "fda9b1920447453894c6191f065890a3",
       "version_major": 2,
       "version_minor": 0
      },
      "text/plain": [
       "Output()"
      ]
     },
     "metadata": {},
     "output_type": "display_data"
    },
    {
     "data": {
      "text/html": [
       "<pre style=\"white-space:pre;overflow-x:auto;line-height:normal;font-family:Menlo,'DejaVu Sans Mono',consolas,'Courier New',monospace\"> 🌎      <span style=\"color: #000080\">⭐Push</span>         <span style=\"color: #800000\">🎁Issue</span>         <span style=\"color: #af00ff\">💌PRs</span>        <span style=\"color: #008000\">🚀Release</span>            Quota         \n",
       "/min    <span style=\"color: #000080\">133 ▁▁▅▃▇</span>      <span style=\"color: #800000\">210 ▃▁▇▁▁</span>      <span style=\"color: #af00ff\">233 ▁▇▅▂▁</span>      <span style=\"color: #008000\">233 ▆▅▇▁▇</span>      <span style=\"color: #729c1f\">━━━━━━━━━━━━</span> <span style=\"color: #800080\">100%</span>   \n",
       "</pre>\n"
      ],
      "text/plain": [
       "<rich.jupyter.JupyterRenderable at 0x7fadd08579a0>"
      ]
     },
     "metadata": {},
     "output_type": "display_data"
    },
    {
     "data": {
      "application/vnd.jupyter.widget-view+json": {
       "model_id": "5dddd15d9dda4d1da8b3536c05882347",
       "version_major": 2,
       "version_minor": 0
      },
      "text/plain": [
       "Output()"
      ]
     },
     "metadata": {},
     "output_type": "display_data"
    }
   ],
   "source": [
    "s = SparkGrp([SparkCfg('blue', 'foo')], store=20, stacked=True)\n",
    "_sim_spark(s)"
   ]
  },
  {
   "cell_type": "markdown",
   "metadata": {},
   "source": [
    "## Event Panel\n",
    "\n",
    "Display GitHub events in a `FixedPanel`, which is a frame of fixed height that displays streaming data."
   ]
  },
  {
   "cell_type": "code",
   "execution_count": 15,
   "metadata": {},
   "outputs": [],
   "source": [
    "#export\n",
    "@patch\n",
    "def __rich_console__(self:GhEvent, console, options):\n",
    "    res = Segments(options)\n",
    "    kw = {'color': colors[self.type]}\n",
    "    res.add(f'{self.emoji}  ')\n",
    "    res.add(self.actor.login, pct=0.25, bold=True, **kw)\n",
    "    res.add(self.description, pct=0.5, **kw)\n",
    "    res.add(self.repo.name, pct=0.5 if self.text else 1, space = ': ' if self.text else '', italic=True, **kw)\n",
    "    if self.text: \n",
    "        clean_text = self.text.replace('\\n', ' ').replace('\\r', ' ')\n",
    "        res.add (f'\"{clean_text}\"', pct=1, space='', **kw)\n",
    "    res.add('\\n')\n",
    "    return res"
   ]
  },
  {
   "cell_type": "code",
   "execution_count": 16,
   "metadata": {},
   "outputs": [],
   "source": [
    "#export\n",
    "colors = dict(\n",
    "    PushEvent=None, CreateEvent=Color.red, IssueCommentEvent=Color.green, WatchEvent=Color.yellow,\n",
    "    PullRequestEvent=Color.blue, PullRequestReviewEvent=Color.magenta, PullRequestReviewCommentEvent=Color.cyan,\n",
    "    DeleteEvent=Color.bright_red, ForkEvent=Color.bright_green, IssuesEvent=Color.bright_magenta,\n",
    "    ReleaseEvent=Color.bright_blue, MemberEvent=Color.bright_yellow, CommitCommentEvent=Color.bright_cyan,\n",
    "    GollumEvent=Color.white, PublicEvent=Color.turquoise4)\n",
    "\n",
    "colors2 = dict(\n",
    "    PushEvent=None, CreateEvent=Color.dodger_blue1, IssueCommentEvent=Color.tan, WatchEvent=Color.steel_blue1,\n",
    "    PullRequestEvent=Color.deep_pink1, PullRequestReviewEvent=Color.slate_blue1, PullRequestReviewCommentEvent=Color.tan,\n",
    "    DeleteEvent=Color.light_pink1, ForkEvent=Color.orange1, IssuesEvent=Color.medium_violet_red,\n",
    "    ReleaseEvent=Color.green1, MemberEvent=Color.orchid1, CommitCommentEvent=Color.tan,\n",
    "    GollumEvent=Color.sea_green1, PublicEvent=Color.magenta2)"
   ]
  },
  {
   "cell_type": "code",
   "execution_count": 17,
   "metadata": {},
   "outputs": [
    {
     "data": {
      "text/html": [
       "<pre style=\"white-space:pre;overflow-x:auto;line-height:normal;font-family:Menlo,'DejaVu Sans Mono',consolas,'Courier New',monospace\"> ────────────────────────────────────────── ghtop ────────────────────────────────────────── \n",
       "  ⭐  <span style=\"font-weight: bold\">diddledan </span>pushed 1 commits to \"master\" in <span style=\"font-style: italic\">diddlesnaps/openttd</span>                          \n",
       "  ⭐  <span style=\"font-weight: bold\">veigarbot </span>pushed 1 commits to \"main\" in <span style=\"font-style: italic\">veigarbot/veigarbot.github.io</span>                  \n",
       "  ⭐  <span style=\"font-weight: bold\">FromDarkHell </span>pushed 1 commits to \"main\" in <span style=\"font-style: italic\">FromDarkHell/Simulstream</span>                    \n",
       "  🏭  <span style=\"color: #800000; font-weight: bold\">pg45 </span><span style=\"color: #800000\">created branch \"add-headers\" in </span><span style=\"color: #800000; font-style: italic\">pg45/markdown-portfolio</span>                           \n",
       "  💬  <span style=\"color: #008000; font-weight: bold\">ljwagerfield </span><span style=\"color: #008000\">created comment on issue #743 in </span><span style=\"color: #008000; font-style: italic\">lukeautry/tsoa: </span><span style=\"color: #008000\">\"@rudfoss did you find…</span>  \n",
       "  ⭐  <span style=\"font-weight: bold\">KwameTaylor </span>pushed 1 commits to \"main\" in <span style=\"font-style: italic\">SpotiScryers/SpotiScry</span>                       \n",
       "  👀  <span style=\"color: #808000; font-weight: bold\">okeeffdp </span><span style=\"color: #808000\">started watching </span><span style=\"color: #808000; font-style: italic\">alshedivat/al-folio</span>                                          \n",
       "  📬  <span style=\"color: #000080; font-weight: bold\">JlchavezG </span><span style=\"color: #000080\">opened PR #43 on </span><span style=\"color: #000080; font-style: italic\">JlchavezG/Psbg: </span><span style=\"color: #000080\">\"Se agregan notificaciones\"</span>                 \n",
       "  👀  <span style=\"color: #808000; font-weight: bold\">Lit3r4lly </span><span style=\"color: #808000\">started watching </span><span style=\"color: #808000; font-style: italic\">0xgalz/Virtuailor</span>                                           \n",
       "  🏭  <span style=\"color: #800000; font-weight: bold\">Nabil1907 </span><span style=\"color: #800000\">created repository in </span><span style=\"color: #800000; font-style: italic\">Nabil1907/Node-js-Projects</span>                             \n",
       "  ⭐  <span style=\"font-weight: bold\">NotWhoYoureThinkingOf </span>pushed 1 commits to \"main\" in <span style=\"font-style: italic\">NotWhoYoureThinkingOf/fb-clone</span>     \n",
       "  🏭  <span style=\"color: #800000; font-weight: bold\">thoriqkemal </span><span style=\"color: #800000\">created repository in </span><span style=\"color: #800000; font-style: italic\">thoriqkemal/tig: </span><span style=\"color: #800000\">\"tig tig\"</span>                           \n",
       "  ⭐  <span style=\"font-weight: bold\">WrathfulSpatula </span>pushed 1 commits to \"master\" in <span style=\"font-style: italic\">WrathfulSpatula/OpenRelativity</span>         \n",
       "  ⭐  <span style=\"font-weight: bold\">alinapopaqb </span>pushed 1 commits to \"master\" in <span style=\"font-style: italic\">alinkamalvinka/cdond-c3-projectstarter</span>     \n",
       "  ⭐  <span style=\"font-weight: bold\">LombiqBot </span>pushed 0 commits to \"MatteoPiovanelli…<span style=\"font-style: italic\">Lombiq/Orchard</span>                         \n",
       " ─────────────────────────────────────────────────────────────────────────────────────────── \n",
       "</pre>\n"
      ],
      "text/plain": [
       "<ghtop.all_rich.FixedPanel at 0x7fadd09fd6d0>"
      ]
     },
     "execution_count": 17,
     "metadata": {},
     "output_type": "execute_result"
    }
   ],
   "source": [
    "p = FixedPanel(15, box=box.HORIZONTALS, title='ghtop')\n",
    "for e in evts[:163]: p.append(e)\n",
    "p"
   ]
  },
  {
   "cell_type": "markdown",
   "metadata": {},
   "source": [
    "#### Using `grid` with `FixedPanel`"
   ]
  },
  {
   "cell_type": "markdown",
   "metadata": {},
   "source": [
    "We can use `grid` to arrange multiple `FixedPanel` instances in rows and columns.  Below is an example of how two `FixedPanel` instances can be arranged in a row:"
   ]
  },
  {
   "cell_type": "code",
   "execution_count": 18,
   "metadata": {},
   "outputs": [
    {
     "data": {
      "text/html": [
       "<pre style=\"white-space:pre;overflow-x:auto;line-height:normal;font-family:Menlo,'DejaVu Sans Mono',consolas,'Courier New',monospace\"> ─────────────────── ghtop ───────────────────  ────────────────── ghtop ─────────────────── \n",
       "  ⭐  <span style=\"font-weight: bold\">BeckhamL </span>pushed 1 commi…<span style=\"font-style: italic\">BeckhamL/leetc…</span>    ⭐  <span style=\"font-weight: bold\">BeckhamL </span>pushed 1 commi…<span style=\"font-style: italic\">BeckhamL/leet…</span>  \n",
       "  🏭  <span style=\"color: #800000; font-weight: bold\">admmonito…</span><span style=\"color: #800000\">created branch…</span><span style=\"color: #800000; font-style: italic\">admmon…</span><span style=\"color: #800000\">\"This …</span>    🏭  <span style=\"color: #800000; font-weight: bold\">admmonito…</span><span style=\"color: #800000\">created branc…</span><span style=\"color: #800000; font-style: italic\">admmon…</span><span style=\"color: #800000\">\"This …</span>  \n",
       "  💬  <span style=\"color: #008000; font-weight: bold\">Holzhaus </span><span style=\"color: #008000\">created commen…</span><span style=\"color: #008000; font-style: italic\">mixxxdj…</span><span style=\"color: #008000\">\"I reo…</span>    💬  <span style=\"color: #008000; font-weight: bold\">Holzhaus </span><span style=\"color: #008000\">created commen…</span><span style=\"color: #008000; font-style: italic\">mixxxd…</span><span style=\"color: #008000\">\"I reo…</span>  \n",
       "  👀  <span style=\"color: #808000; font-weight: bold\">mikalacki…</span><span style=\"color: #808000\">started watchi…</span><span style=\"color: #808000; font-style: italic\">microg/GmsCore</span>    👀  <span style=\"color: #808000; font-weight: bold\">mikalacki…</span><span style=\"color: #808000\">started watch…</span><span style=\"color: #808000; font-style: italic\">microg/GmsCore</span>  \n",
       "  📪  <span style=\"color: #000080; font-weight: bold\">Didier-D-…</span><span style=\"color: #000080\">closed PR #3 o…</span><span style=\"color: #000080; font-style: italic\">Didier…</span><span style=\"color: #000080\">\"Bump …</span>    📪  <span style=\"color: #000080; font-weight: bold\">Didier-D-…</span><span style=\"color: #000080\">closed PR #3 …</span><span style=\"color: #000080; font-style: italic\">Didier…</span><span style=\"color: #000080\">\"Bump …</span>  \n",
       "  💌  <span style=\"color: #800080; font-weight: bold\">kadirselc…</span><span style=\"color: #800080\">created PR rev…</span><span style=\"color: #800080; font-style: italic\">turkdevops/no…</span>    💌  <span style=\"color: #800080; font-weight: bold\">kadirselc…</span><span style=\"color: #800080\">created PR re…</span><span style=\"color: #800080; font-style: italic\">turkdevops/no…</span>  \n",
       "  🗨  <span style=\"color: #008080; font-weight: bold\">mobinmob </span><span style=\"color: #008080\">created review …</span><span style=\"color: #008080; font-style: italic\">void-li…</span><span style=\"color: #008080\">\"Οκ 👍\"</span>    🗨  <span style=\"color: #008080; font-weight: bold\">mobinmob </span><span style=\"color: #008080\">created review…</span><span style=\"color: #008080; font-style: italic\">void-li…</span><span style=\"color: #008080\">\"Οκ 👍\"</span>  \n",
       "  ✂  <span style=\"color: #ff0000; font-weight: bold\">heehee3 </span><span style=\"color: #ff0000\">deleted branch …</span><span style=\"color: #ff0000; font-style: italic\">heehee3/Proyect…</span>    ✂  <span style=\"color: #ff0000; font-weight: bold\">heehee3 </span><span style=\"color: #ff0000\">deleted branch …</span><span style=\"color: #ff0000; font-style: italic\">heehee3/Proyec…</span>  \n",
       "  🍽  <span style=\"color: #00ff00; font-weight: bold\">Tubbz-alt </span><span style=\"color: #00ff00\">forked </span><span style=\"color: #00ff00; font-style: italic\">fortran-lan…</span><span style=\"color: #00ff00\">\"Fortran w…</span>    🍽  <span style=\"color: #00ff00; font-weight: bold\">Tubbz-alt </span><span style=\"color: #00ff00\">forked </span><span style=\"color: #00ff00; font-style: italic\">fortran-la…</span><span style=\"color: #00ff00\">\"Fortran w…</span>  \n",
       "  🐛  <span style=\"color: #ff00ff; font-weight: bold\">oulasvirt…</span><span style=\"color: #ff00ff\">opened issue #…</span><span style=\"color: #ff00ff; font-style: italic\">oulasv…</span><span style=\"color: #ff00ff\">\"Title\"</span>    🐛  <span style=\"color: #ff00ff; font-weight: bold\">oulasvirt…</span><span style=\"color: #ff00ff\">opened issue …</span><span style=\"color: #ff00ff; font-style: italic\">oulasv…</span><span style=\"color: #ff00ff\">\"Title\"</span>  \n",
       "  🚀  <span style=\"color: #0000ff; font-weight: bold\">github-ac…</span><span style=\"color: #0000ff\">published rele…</span><span style=\"color: #0000ff; font-style: italic\">Anuken/Mindus…</span>    🚀  <span style=\"color: #0000ff; font-weight: bold\">github-ac…</span><span style=\"color: #0000ff\">published rel…</span><span style=\"color: #0000ff; font-style: italic\">Anuken/Mindus…</span>  \n",
       "  💃  <span style=\"color: #ffff00; font-weight: bold\">laurofilh…</span><span style=\"color: #ffff00\">added member b…</span><span style=\"color: #ffff00; font-style: italic\">laurofilho96/…</span>    💃  <span style=\"color: #ffff00; font-weight: bold\">laurofilh…</span><span style=\"color: #ffff00\">added member …</span><span style=\"color: #ffff00; font-style: italic\">laurofilho96/…</span>  \n",
       "  🎉  <span style=\"color: #00ffff; font-weight: bold\">vercel[bo…</span><span style=\"color: #00ffff\">created commit…</span><span style=\"color: #00ffff; font-style: italic\">LCinde…</span><span style=\"color: #00ffff\">\"Succe…</span>    🎉  <span style=\"color: #00ffff; font-weight: bold\">vercel[bo…</span><span style=\"color: #00ffff\">created commi…</span><span style=\"color: #00ffff; font-style: italic\">LCinde…</span><span style=\"color: #00ffff\">\"Succe…</span>  \n",
       "  📚  <span style=\"color: #c0c0c0; font-weight: bold\">adrianggc </span><span style=\"color: #c0c0c0\">edited wiki pa…</span><span style=\"color: #c0c0c0; font-style: italic\">adrianggc/Die…</span>    📚  <span style=\"color: #c0c0c0; font-weight: bold\">adrianggc </span><span style=\"color: #c0c0c0\">edited wiki p…</span><span style=\"color: #c0c0c0; font-style: italic\">adrianggc/Die…</span>  \n",
       " ─────────────────────────────────────────────  ──────────────────────────────────────────── \n",
       "</pre>\n"
      ],
      "text/plain": [
       "<rich.table.Table at 0x7fade0dfc0d0>"
      ]
     },
     "execution_count": 18,
     "metadata": {},
     "output_type": "execute_result"
    }
   ],
   "source": [
    "p = FixedPanel(15, box=box.HORIZONTALS, title='ghtop')\n",
    "for e in exs: p.append(e)\n",
    "grid([[p,p]])"
   ]
  },
  {
   "cell_type": "markdown",
   "metadata": {},
   "source": [
    "Here is another example of a four `FixedPanel` instances arranged in two rows and two columns:"
   ]
  },
  {
   "cell_type": "code",
   "execution_count": 19,
   "metadata": {},
   "outputs": [],
   "source": [
    "types = IssueCommentEvent,IssuesEvent,PullRequestEvent,PullRequestReviewEvent\n",
    "ps = {o:FixedPanel(15, box=box.HORIZONTALS, title=camel2words(remove_suffix(o.__name__,'Event'))) for o in types}"
   ]
  },
  {
   "cell_type": "code",
   "execution_count": 20,
   "metadata": {},
   "outputs": [
    {
     "data": {
      "text/html": [
       "<pre style=\"white-space:pre;overflow-x:auto;line-height:normal;font-family:Menlo,'DejaVu Sans Mono',consolas,'Courier New',monospace\"> ─────────────────── Issue Comment ───────────────────  ────────────────────── Issues ─────────────────────── \n",
       "  💬  <span style=\"color: #008000; font-weight: bold\">sanskritbsc…</span><span style=\"color: #008000\">created comment o…</span><span style=\"color: #008000; font-style: italic\">sanskrit…</span><span style=\"color: #008000\">\"fixed …</span>    🐛  <span style=\"color: #ff00ff; font-weight: bold\">github-lear…</span><span style=\"color: #ff00ff\">opened issue #1 o…</span><span style=\"color: #ff00ff; font-style: italic\">pg45/mar…</span><span style=\"color: #ff00ff\">\"Gettin…</span>  \n",
       "  💬  <span style=\"color: #008000; font-weight: bold\">github-lear…</span><span style=\"color: #008000\">created comment o…</span><span style=\"color: #008000; font-style: italic\">pfxsys/g…</span><span style=\"color: #008000\">\"## Ste…</span>    🐛  <span style=\"color: #ff00ff; font-weight: bold\">NillerMedDi…</span><span style=\"color: #ff00ff\">opened issue #3 o…</span><span style=\"color: #ff00ff; font-style: italic\">gigabit1…</span><span style=\"color: #ff00ff\">\"[Reque…</span>  \n",
       "  💬  <span style=\"color: #008000; font-weight: bold\">moezzineb </span><span style=\"color: #008000\">created comment on…</span><span style=\"color: #008000; font-style: italic\">flutter/…</span><span style=\"color: #008000\">\"Voila :…</span>    🐛  <span style=\"color: #ff00ff; font-weight: bold\">lucasfarias…</span><span style=\"color: #ff00ff\">opened issue #2 o…</span><span style=\"color: #ff00ff; font-style: italic\">lucasfar…</span><span style=\"color: #ff00ff\">\"Issue …</span>  \n",
       "  💬  <span style=\"color: #008000; font-weight: bold\">JustSlone </span><span style=\"color: #008000\">created comment on…</span><span style=\"color: #008000; font-style: italic\">microsof…</span><span style=\"color: #008000\">\"So read…</span>    🐛  <span style=\"color: #ff00ff; font-weight: bold\">jabolopes </span><span style=\"color: #ff00ff\">opened issue #44 o…</span><span style=\"color: #ff00ff; font-style: italic\">lafriks/…</span><span style=\"color: #ff00ff\">\"Possibl…</span>  \n",
       "  💬  <span style=\"color: #008000; font-weight: bold\">codecov[bot…</span><span style=\"color: #008000\">created comment o…</span><span style=\"color: #008000; font-style: italic\">open-mml…</span><span style=\"color: #008000\">\"# [Cod…</span>    🐛  <span style=\"color: #ff00ff; font-weight: bold\">aisaioop </span><span style=\"color: #ff00ff\">opened issue #1598…</span><span style=\"color: #ff00ff; font-style: italic\">aisaioop/…</span><span style=\"color: #ff00ff\">\"北京通州</span>  \n",
       "  💬  <span style=\"color: #008000; font-weight: bold\">mightybart </span><span style=\"color: #008000\">created comment o…</span><span style=\"color: #008000; font-style: italic\">floriank…</span><span style=\"color: #008000\">\"Current…</span>    🐛  <span style=\"color: #ff00ff; font-weight: bold\">jonathannag…</span><span style=\"color: #ff00ff\">opened issue #23 …</span><span style=\"color: #ff00ff; font-style: italic\">navikt/m…</span><span style=\"color: #ff00ff\">\"Access…</span>  \n",
       "  💬  <span style=\"color: #008000; font-weight: bold\">Joulinar </span><span style=\"color: #008000\">created comment on…</span><span style=\"color: #008000; font-style: italic\">MichaIng/…</span><span style=\"color: #008000\">\"Hi,    …</span>    🐛  <span style=\"color: #ff00ff; font-weight: bold\">aisaioop </span><span style=\"color: #ff00ff\">opened issue #1599…</span><span style=\"color: #ff00ff; font-style: italic\">aisaioop/…</span><span style=\"color: #ff00ff\">\"上海黄浦</span>  \n",
       "  💬  <span style=\"color: #008000; font-weight: bold\">9mm </span><span style=\"color: #008000\">created comment on is…</span><span style=\"color: #008000; font-style: italic\">rubycdp/fe…</span><span style=\"color: #008000\">\"@route h…</span>    🐛  <span style=\"color: #ff00ff; font-weight: bold\">helmrich </span><span style=\"color: #ff00ff\">opened issue #27 o…</span><span style=\"color: #ff00ff; font-style: italic\">vinceliui…</span><span style=\"color: #ff00ff\">\"Spotify…</span>  \n",
       "  💬  <span style=\"color: #008000; font-weight: bold\">dependabot[…</span><span style=\"color: #008000\">created comment o…</span><span style=\"color: #008000; font-style: italic\">herzliya…</span><span style=\"color: #008000\">\"Looks …</span>    🐛  <span style=\"color: #ff00ff; font-weight: bold\">github-acti…</span><span style=\"color: #ff00ff\">opened issue #204…</span><span style=\"color: #ff00ff; font-style: italic\">Sakzsee/…</span><span style=\"color: #ff00ff\">\"Error …</span>  \n",
       "  💬  <span style=\"color: #008000; font-weight: bold\">codepope </span><span style=\"color: #008000\">created comment on…</span><span style=\"color: #008000; font-style: italic\">superfly/…</span><span style=\"color: #008000\">\"That's …</span>    🐛  <span style=\"color: #ff00ff; font-weight: bold\">aisaioop </span><span style=\"color: #ff00ff\">opened issue #1600…</span><span style=\"color: #ff00ff; font-style: italic\">aisaioop/…</span><span style=\"color: #ff00ff\">\"北京门头</span>  \n",
       "  💬  <span style=\"color: #008000; font-weight: bold\">poelzi </span><span style=\"color: #008000\">created comment on …</span><span style=\"color: #008000; font-style: italic\">mixxxdj/m…</span><span style=\"color: #008000\">\"@Be-ing …</span>    🎁  <span style=\"color: #ff00ff; font-weight: bold\">glutamate </span><span style=\"color: #ff00ff\">closed issue #466 …</span><span style=\"color: #ff00ff; font-style: italic\">saltcorn…</span><span style=\"color: #ff00ff\">\"Forgott…</span>  \n",
       "  💬  <span style=\"color: #008000; font-weight: bold\">ethindp </span><span style=\"color: #008000\">created comment on …</span><span style=\"color: #008000; font-style: italic\">rust-osde…</span><span style=\"color: #008000\">\"I disag…</span>    🐛  <span style=\"color: #ff00ff; font-weight: bold\">autocode-ap…</span><span style=\"color: #ff00ff\">opened issue #793…</span><span style=\"color: #ff00ff; font-style: italic\">imamandr…</span><span style=\"color: #ff00ff\">\"https:…</span>  \n",
       "  💬  <span style=\"color: #008000; font-weight: bold\">michaelforn…</span><span style=\"color: #008000\">created comment o…</span><span style=\"color: #008000; font-style: italic\">oasislin…</span><span style=\"color: #008000\">\"Thanks…</span>    🎁  <span style=\"color: #ff00ff; font-weight: bold\">sanskritbsc…</span><span style=\"color: #ff00ff\">closed issue #3 o…</span><span style=\"color: #ff00ff; font-style: italic\">sanskrit…</span><span style=\"color: #ff00ff\">\"someth…</span>  \n",
       "  💬  <span style=\"color: #008000; font-weight: bold\">stale[bot] </span><span style=\"color: #008000\">created comment o…</span><span style=\"color: #008000; font-style: italic\">ironhack…</span><span style=\"color: #008000\">\"This pu…</span>    🐛  <span style=\"color: #ff00ff; font-weight: bold\">aisaioop </span><span style=\"color: #ff00ff\">opened issue #1601…</span><span style=\"color: #ff00ff; font-style: italic\">aisaioop/…</span><span style=\"color: #ff00ff\">\"上海宝山</span>  \n",
       "  💬  <span style=\"color: #008000; font-weight: bold\">awolf78 </span><span style=\"color: #008000\">created comment on …</span><span style=\"color: #008000; font-style: italic\">ImpulseRC…</span><span style=\"color: #008000\">\"If you …</span>    🐛  <span style=\"color: #ff00ff; font-weight: bold\">slingamn </span><span style=\"color: #ff00ff\">opened issue #1455…</span><span style=\"color: #ff00ff; font-style: italic\">oragono/o…</span><span style=\"color: #ff00ff\">\"split m…</span>  \n",
       " ─────────────────────────────────────────────────────  ───────────────────────────────────────────────────── \n",
       " ─────────────────── Pull Request ────────────────────  ──────────────── Pull Request Review ──────────────── \n",
       "  📪  <span style=\"color: #000080; font-weight: bold\">alexerlands…</span><span style=\"color: #000080\">closed PR #5 on </span><span style=\"color: #000080; font-style: italic\">alexerlan…</span><span style=\"color: #000080\">\"Bump in…</span>                                                         \n",
       "  📬  <span style=\"color: #000080; font-weight: bold\">constancefe…</span><span style=\"color: #000080\">opened PR #85 on </span><span style=\"color: #000080; font-style: italic\">lucienwa…</span><span style=\"color: #000080\">\"week 5 …</span>                                                         \n",
       "  📬  <span style=\"color: #000080; font-weight: bold\">jyshangguan </span><span style=\"color: #000080\">opened PR #1 on </span><span style=\"color: #000080; font-style: italic\">jyshanggu…</span><span style=\"color: #000080\">\"add ima…</span>    💌  <span style=\"color: #800080; font-weight: bold\">kadirselcuk </span><span style=\"color: #800080\">created PR review…</span><span style=\"color: #800080; font-style: italic\">turkdevops/node</span>    \n",
       "  📪  <span style=\"color: #000080; font-weight: bold\">Ryukishi </span><span style=\"color: #000080\">closed PR #2 on </span><span style=\"color: #000080; font-style: italic\">adibhanna/…</span><span style=\"color: #000080\">\"Feature/p…</span>    💌  <span style=\"color: #800080; font-weight: bold\">mobinmob </span><span style=\"color: #800080\">created PR review …</span><span style=\"color: #800080; font-style: italic\">void-linux/void-pa…</span>  \n",
       "  📪  <span style=\"color: #000080; font-weight: bold\">ahocevar </span><span style=\"color: #000080\">closed PR #11811 o…</span><span style=\"color: #000080; font-style: italic\">openlayer…</span><span style=\"color: #000080\">\"Better …</span>    💌  <span style=\"color: #800080; font-weight: bold\">swatso2020 </span><span style=\"color: #800080\">created PR review…</span><span style=\"color: #800080; font-style: italic\">swatso2020/Projec…</span>  \n",
       "  📬  <span style=\"color: #000080; font-weight: bold\">snyk-bot </span><span style=\"color: #000080\">opened PR #84 on </span><span style=\"color: #000080; font-style: italic\">stelthdroi…</span><span style=\"color: #000080\">\"[Snyk] S…</span>    💌  <span style=\"color: #800080; font-weight: bold\">github-lear…</span><span style=\"color: #800080\">created PR review…</span><span style=\"color: #800080; font-style: italic\">theaioat…</span><span style=\"color: #800080\">\"## Ste…</span>  \n",
       "  📪  <span style=\"color: #000080; font-weight: bold\">mennovanemm…</span><span style=\"color: #000080\">closed PR #27 on </span><span style=\"color: #000080; font-style: italic\">Softimis…</span><span style=\"color: #000080\">\"Ship Mo…</span>    💌  <span style=\"color: #800080; font-weight: bold\">ASchwad </span><span style=\"color: #800080\">created PR review i…</span><span style=\"color: #800080; font-style: italic\">reaviz/reaflow</span>       \n",
       "  📪  <span style=\"color: #000080; font-weight: bold\">Chramox </span><span style=\"color: #000080\">closed PR #4 on </span><span style=\"color: #000080; font-style: italic\">Chramox/tyt…</span><span style=\"color: #000080\">\"Update\"</span>       💌  <span style=\"color: #800080; font-weight: bold\">francinaPon…</span><span style=\"color: #800080\">created PR review…</span><span style=\"color: #800080; font-style: italic\">UB-ES-2020-A/Gru…</span>  \n",
       "  📪  <span style=\"color: #000080; font-weight: bold\">gabriel-hah…</span><span style=\"color: #000080\">closed PR #128 on </span><span style=\"color: #000080; font-style: italic\">gabriel-…</span><span style=\"color: #000080\">\"Bump @…</span>    💌  <span style=\"color: #800080; font-weight: bold\">aaronPeruga </span><span style=\"color: #800080\">created PR review…</span><span style=\"color: #800080; font-style: italic\">UB-ES-2020-A/Gru…</span>  \n",
       "  📬  <span style=\"color: #000080; font-weight: bold\">distantnati…</span><span style=\"color: #000080\">opened PR #1103 o…</span><span style=\"color: #000080; font-style: italic\">getkirby…</span><span style=\"color: #000080\">\"Remove…</span>    💌  <span style=\"color: #800080; font-weight: bold\">ahocevar </span><span style=\"color: #800080\">created PR review …</span><span style=\"color: #800080; font-style: italic\">openlayer…</span><span style=\"color: #800080\">\"Thanks,…</span>  \n",
       "  📬  <span style=\"color: #000080; font-weight: bold\">pull[bot] </span><span style=\"color: #000080\">opened PR #534 on </span><span style=\"color: #000080; font-style: italic\">antosubas…</span><span style=\"color: #000080\">\"[pull] …</span>    💌  <span style=\"color: #800080; font-weight: bold\">nedbat </span><span style=\"color: #800080\">created PR review i…</span><span style=\"color: #800080; font-style: italic\">nedbat/scriv</span>          \n",
       "  📪  <span style=\"color: #000080; font-weight: bold\">yakirgot </span><span style=\"color: #000080\">closed PR #1 on </span><span style=\"color: #000080; font-style: italic\">yakirgot/s…</span><span style=\"color: #000080\">\"chore(dep…</span>    💌  <span style=\"color: #800080; font-weight: bold\">nedbat </span><span style=\"color: #800080\">created PR review i…</span><span style=\"color: #800080; font-style: italic\">nedbat/scriv</span>          \n",
       "  📪  <span style=\"color: #000080; font-weight: bold\">mergify[bot…</span><span style=\"color: #000080\">closed PR #4 on </span><span style=\"color: #000080; font-style: italic\">spbu-codi…</span><span style=\"color: #000080\">\"Исправл…</span>    💌  <span style=\"color: #800080; font-weight: bold\">mennovanemm…</span><span style=\"color: #800080\">created PR review…</span><span style=\"color: #800080; font-style: italic\">Softimistic/Proj…</span>  \n",
       "  🔁  <span style=\"color: #000080; font-weight: bold\">stringcode8…</span><span style=\"color: #000080\">reopened PR #2051…</span><span style=\"color: #000080; font-style: italic\">MetaMask…</span><span style=\"color: #000080\">\"[1984]…</span>    💌  <span style=\"color: #800080; font-weight: bold\">i-stam </span><span style=\"color: #800080\">created PR review i…</span><span style=\"color: #800080; font-style: italic\">Synthetixio/synthet…</span>  \n",
       "  📪  <span style=\"color: #000080; font-weight: bold\">dependabot[…</span><span style=\"color: #000080\">closed PR #3 on </span><span style=\"color: #000080; font-style: italic\">herzliya-…</span><span style=\"color: #000080\">\"Bump in…</span>    💌  <span style=\"color: #800080; font-weight: bold\">gmolinga </span><span style=\"color: #800080\">created PR review …</span><span style=\"color: #800080; font-style: italic\">UB-ES-2020-A/Grup-…</span>  \n",
       " ─────────────────────────────────────────────────────  ───────────────────────────────────────────────────── \n",
       "</pre>\n"
      ],
      "text/plain": [
       "<rich.table.Table at 0x7fade0bf6c40>"
      ]
     },
     "execution_count": 20,
     "metadata": {},
     "output_type": "execute_result"
    }
   ],
   "source": [
    "for k,v in ps.items(): v.extend(evts.filter(risinstance(k)))\n",
    "isc,iss,prs,prrs = ps.values()\n",
    "grid([[isc,iss],[prs,prrs]], width=110)"
   ]
  },
  {
   "cell_type": "markdown",
   "metadata": {},
   "source": [
    "## Export -"
   ]
  },
  {
   "cell_type": "code",
   "execution_count": 21,
   "metadata": {},
   "outputs": [
    {
     "name": "stdout",
     "output_type": "stream",
     "text": [
      "Converted 00_ghtop.ipynb.\n",
      "Converted Prototype_Rich.ipynb.\n",
      "Converted index.ipynb.\n",
      "Converted richext.ipynb.\n"
     ]
    }
   ],
   "source": [
    "#hide\n",
    "from nbdev.export import notebook2script\n",
    "notebook2script()"
   ]
  },
  {
   "cell_type": "code",
   "execution_count": 22,
   "metadata": {},
   "outputs": [
    {
     "ename": "TypeError",
     "evalue": "unhashable type: 'list'",
     "output_type": "error",
     "traceback": [
      "\u001b[0;31m-----------------------------------------------------\u001b[0m",
      "\u001b[0;31mTypeError\u001b[0m           Traceback (most recent call last)",
      "\u001b[0;32m<ipython-input-22-867a51b4673a>\u001b[0m in \u001b[0;36m<module>\u001b[0;34m\u001b[0m\n\u001b[0;32m----> 1\u001b[0;31m \u001b[0;34m{\u001b[0m\u001b[0;34m[\u001b[0m\u001b[0;36m1\u001b[0m\u001b[0;34m,\u001b[0m\u001b[0;36m2\u001b[0m\u001b[0;34m,\u001b[0m\u001b[0;36m3\u001b[0m\u001b[0;34m]\u001b[0m\u001b[0;34m:\u001b[0m\u001b[0;34m'Title'\u001b[0m\u001b[0;34m}\u001b[0m\u001b[0;34m\u001b[0m\u001b[0;34m\u001b[0m\u001b[0m\n\u001b[0m",
      "\u001b[0;31mTypeError\u001b[0m: unhashable type: 'list'"
     ]
    }
   ],
   "source": []
  },
  {
   "cell_type": "code",
   "execution_count": null,
   "metadata": {},
   "outputs": [],
   "source": []
  }
 ],
 "metadata": {
  "kernelspec": {
   "display_name": "Python 3",
   "language": "python",
   "name": "python3"
  },
  "language_info": {
   "codemirror_mode": {
    "name": "ipython",
    "version": 3
   },
   "file_extension": ".py",
   "mimetype": "text/x-python",
   "name": "python",
   "nbconvert_exporter": "python",
   "pygments_lexer": "ipython3",
   "version": "3.8.3"
  }
 },
 "nbformat": 4,
 "nbformat_minor": 4
}
