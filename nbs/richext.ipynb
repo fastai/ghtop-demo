{
 "cells": [
  {
   "cell_type": "code",
   "execution_count": null,
   "metadata": {},
   "outputs": [],
   "source": [
    "#default_exp richext"
   ]
  },
  {
   "cell_type": "markdown",
   "metadata": {},
   "source": [
    "# Extensions To Rich\n",
    "\n",
    "Extensions to rich for ghtop."
   ]
  },
  {
   "cell_type": "code",
   "execution_count": null,
   "metadata": {},
   "outputs": [],
   "source": [
    "#export\n",
    "import time,random\n",
    "from collections import defaultdict\n",
    "from typing import List\n",
    "from collections import deque, OrderedDict, namedtuple\n",
    "from ghtop.all_rich import (Console, Color, FixedPanel, box, Segments, Live,\n",
    "                            grid, ConsoleOptions, Progress, BarColumn, Spinner)\n",
    "from ghapi.event import *\n",
    "from fastcore.all import *\n",
    "console = Console()\n"
   ]
  },
  {
   "cell_type": "code",
   "execution_count": null,
   "metadata": {},
   "outputs": [],
   "source": [
    "evts = load_sample_events()\n",
    "exs = [first(evts, risinstance(o)) for o in described_evts]"
   ]
  },
  {
   "cell_type": "markdown",
   "metadata": {},
   "source": [
    "## Animated Stats\n",
    "\n",
    "This section outlines how we can display statistics and visualizations such as sparklines and status bars that are animated as events are received."
   ]
  },
  {
   "cell_type": "markdown",
   "metadata": {},
   "source": [
    "### `EProg` - Progress Bar"
   ]
  },
  {
   "cell_type": "code",
   "execution_count": null,
   "metadata": {},
   "outputs": [],
   "source": [
    "#export\n",
    "class EProg:\n",
    "    \"Progress bar with a heading `hdg`.\"\n",
    "    def __init__(self, hdg='Quota', width=10):\n",
    "        self.prog = Progress(BarColumn(bar_width=width), \"[progress.percentage]{task.percentage:>3.0f}%\")\n",
    "        self.task = self.prog.add_task(\"\",total=100, visible=False)\n",
    "        store_attr()\n",
    "    def update(self, completed): self.prog.update(self.task, completed=completed)\n",
    "    def __rich_console__(self, console: Console, options: ConsoleOptions):\n",
    "        self.prog.update(self.task, visible=True)\n",
    "        yield grid([[\"Quota\"], [self.prog.get_renderable()]], width=self.width+2, expand=False)\n"
   ]
  },
  {
   "cell_type": "markdown",
   "metadata": {},
   "source": [
    "When you instantiate `Eprog` the starting progress is set to 0%:"
   ]
  },
  {
   "cell_type": "code",
   "execution_count": null,
   "metadata": {},
   "outputs": [
    {
     "data": {
      "application/vnd.jupyter.widget-view+json": {
       "model_id": "9ce3875c7a864adb9484fcd84de36bab",
       "version_major": 2,
       "version_minor": 0
      },
      "text/plain": [
       "Output()"
      ]
     },
     "metadata": {},
     "output_type": "display_data"
    },
    {
     "data": {
      "text/html": [
       "<pre style=\"white-space:pre;overflow-x:auto;line-height:normal;font-family:Menlo,'DejaVu Sans Mono',consolas,'Courier New',monospace\">   Quota    \n",
       "<span style=\"color: #3a3a3a\">━━━━━━━</span> <span style=\"color: #800080\">  0%</span>\n",
       "</pre>\n"
      ],
      "text/plain": [
       "<rich.jupyter.JupyterRenderable at 0x7ff8813d5430>"
      ]
     },
     "metadata": {},
     "output_type": "display_data"
    }
   ],
   "source": [
    "p = EProg()\n",
    "console.print(p)"
   ]
  },
  {
   "cell_type": "markdown",
   "metadata": {},
   "source": [
    "You can update the progress bar with the `update` method:"
   ]
  },
  {
   "cell_type": "code",
   "execution_count": null,
   "metadata": {},
   "outputs": [
    {
     "data": {
      "text/html": [
       "<pre style=\"white-space:pre;overflow-x:auto;line-height:normal;font-family:Menlo,'DejaVu Sans Mono',consolas,'Courier New',monospace\">   Quota    \n",
       "<span style=\"color: #f92672\">╸</span><span style=\"color: #3a3a3a\">━━━━━━</span> <span style=\"color: #800080\"> 10%</span>\n",
       "</pre>\n"
      ],
      "text/plain": [
       "<rich.jupyter.JupyterRenderable at 0x7ff8a05d88b0>"
      ]
     },
     "metadata": {},
     "output_type": "display_data"
    }
   ],
   "source": [
    "p.update(10)\n",
    "console.print(p)"
   ]
  },
  {
   "cell_type": "markdown",
   "metadata": {},
   "source": [
    "### `Espark` - A sparkline combined with an EventTimer\n",
    "\n",
    "fastcore's `EventTimer` calculates frequency metrics aggregated by slices of time specified by the argument `span`.  The `EventTimer` can produce a sparkline that shows the last n time slices, where n is specified by the parameter `store`:"
   ]
  },
  {
   "cell_type": "code",
   "execution_count": null,
   "metadata": {},
   "outputs": [],
   "source": [
    "#export\n",
    "class ESpark(EventTimer):\n",
    "    \"An `EventTimer` that displays a sparkline with a heading `nm`.\"\n",
    "    def __init__(self, nm:str, color:str, ghevts=None, store=5, span=.2, mn=0, mx=None, stacked=True, show_freq=False): \n",
    "        super().__init__(store=store, span=span)\n",
    "        self.ghevts=L(ghevts)\n",
    "        store_attr('nm,color,store,span,mn,mx,stacked,show_freq')\n",
    "        \n",
    "    def _spark(self):\n",
    "        data = L(list(self.hist)+[self.freq] if self.show_freq else self.hist)\n",
    "        return f\"[{self.color}]{self.freq:.0f} {sparkline(data, mn=self.mn, mx=self.mx)}[/]\"\n",
    "    \n",
    "    def upd_hist(self, store, span): super().__init__(store=store, span=span)\n",
    "    \n",
    "    def _nm(self): return f\"[{self.color}] {self.nm}[/]\"\n",
    "    \n",
    "    def __rich_console__(self, console: Console, options: ConsoleOptions): \n",
    "        yield grid([[self._nm()], [self._spark()]]) if self.stacked else f'{self._nm()}  {self._spark()}'\n",
    "        \n",
    "    def add_events(self, evts):\n",
    "        evts = L([evts]) if isinstance(evts, dict) else L(evts)\n",
    "        if self.ghevts: evts.map(lambda e: self.add(1) if type(e) in L(self.ghevts) else noop)\n",
    "        else: self.add(len(evts))\n",
    "            \n",
    "    __repr__ = basic_repr('nm,color,ghevts,store,span,stacked,show_freq,ylim')"
   ]
  },
  {
   "cell_type": "code",
   "execution_count": null,
   "metadata": {},
   "outputs": [],
   "source": [
    "from time import sleep\n",
    "def _randwait(): yield from (sleep(random.random()/200) for _ in range(100))\n",
    "\n",
    "c = EventTimer(store=5, span=0.03)\n",
    "for o in _randwait(): c.add(1)"
   ]
  },
  {
   "cell_type": "markdown",
   "metadata": {},
   "source": [
    "By default `nm` will be stacked on top of the sparkline.  We simulate adding events to `ESpark` and render the result:"
   ]
  },
  {
   "cell_type": "code",
   "execution_count": null,
   "metadata": {},
   "outputs": [
    {
     "data": {
      "text/html": [
       "<pre style=\"white-space:pre;overflow-x:auto;line-height:normal;font-family:Menlo,'DejaVu Sans Mono',consolas,'Courier New',monospace\">                                          <span style=\"color: #000080\"> 💌Issue</span>                                           \n",
       "                                          <span style=\"color: #000080\">24 ▇▂▁▅▂</span>                                           \n",
       "</pre>\n"
      ],
      "text/plain": [
       "<rich.jupyter.JupyterRenderable at 0x7ff8a0679a30>"
      ]
     },
     "metadata": {},
     "output_type": "display_data"
    }
   ],
   "source": [
    "e = ESpark(nm='💌Issue', color='blue', store=5)\n",
    "\n",
    "def _r(): return random.randint(1,30)\n",
    "\n",
    "def _sim(e, steps=8, sleep=.2):\n",
    "    for i in range(steps):\n",
    "        e.add(_r())\n",
    "        time.sleep(sleep)\n",
    "\n",
    "_sim(e)\n",
    "console.print(e)"
   ]
  },
  {
   "cell_type": "markdown",
   "metadata": {},
   "source": [
    "If you would prefer `nm` and the sparkline to be on one line instead, you can set `stacked` to `false`:"
   ]
  },
  {
   "cell_type": "code",
   "execution_count": null,
   "metadata": {},
   "outputs": [
    {
     "data": {
      "text/html": [
       "<pre style=\"white-space:pre;overflow-x:auto;line-height:normal;font-family:Menlo,'DejaVu Sans Mono',consolas,'Courier New',monospace\"><span style=\"color: #000080\"> 💌Issue</span>  <span style=\"color: #000080\">69 ▇▁▂▆▃</span>\n",
       "</pre>\n"
      ],
      "text/plain": [
       "<rich.jupyter.JupyterRenderable at 0x7ff8a05d8850>"
      ]
     },
     "metadata": {},
     "output_type": "display_data"
    }
   ],
   "source": [
    "e = ESpark(color='blue', nm='💌Issue', stacked=False)\n",
    "_sim(e)\n",
    "console.print(e)"
   ]
  },
  {
   "cell_type": "markdown",
   "metadata": {},
   "source": [
    "You can optionally specify a list of `GhEvent` types that will allow you to update sparklines by streaming in events. `described_evts` has a complete list of options:"
   ]
  },
  {
   "cell_type": "code",
   "execution_count": null,
   "metadata": {},
   "outputs": [
    {
     "data": {
      "text/plain": [
       "(ghapi.event.PushEvent,\n",
       " ghapi.event.CreateEvent,\n",
       " ghapi.event.IssueCommentEvent,\n",
       " ghapi.event.WatchEvent,\n",
       " ghapi.event.PullRequestEvent,\n",
       " ghapi.event.PullRequestReviewEvent,\n",
       " ghapi.event.PullRequestReviewCommentEvent,\n",
       " ghapi.event.DeleteEvent,\n",
       " ghapi.event.ForkEvent,\n",
       " ghapi.event.IssuesEvent,\n",
       " ghapi.event.ReleaseEvent,\n",
       " ghapi.event.MemberEvent,\n",
       " ghapi.event.CommitCommentEvent,\n",
       " ghapi.event.GollumEvent,\n",
       " ghapi.event.PublicEvent)"
      ]
     },
     "execution_count": null,
     "metadata": {},
     "output_type": "execute_result"
    }
   ],
   "source": [
    "described_evts"
   ]
  },
  {
   "cell_type": "markdown",
   "metadata": {},
   "source": [
    "If `ghevts` is specified, only events that match the list of the `GhEvent` types will increment the event counter. \n",
    "\n",
    "In the below example, the `IssueCommentEvent` and `IssuesEvent` are listed, therefore any other event types will not update the event counter:"
   ]
  },
  {
   "cell_type": "code",
   "execution_count": null,
   "metadata": {},
   "outputs": [],
   "source": [
    "_pr_evts = evts.filter(risinstance((PullRequestEvent, PullRequestReviewCommentEvent, PullRequestReviewEvent)))\n",
    "_watch_evts = evts.filter(risinstance((WatchEvent)))\n",
    "\n",
    "\n",
    "_s = ESpark('Issues', 'blue', [IssueCommentEvent, IssuesEvent], span=5)\n",
    "_s.add_events(_pr_evts)\n",
    "_s.add_events(_watch_evts)\n",
    "test_eq(_s.events, 0)"
   ]
  },
  {
   "cell_type": "markdown",
   "metadata": {},
   "source": [
    "However, events that match those types will update the event counter accordingly:"
   ]
  },
  {
   "cell_type": "code",
   "execution_count": null,
   "metadata": {},
   "outputs": [],
   "source": [
    "_issue_evts = evts.filter(risinstance((IssueCommentEvent, IssuesEvent)))\n",
    "_s.add_events(_issue_evts)\n",
    "test_eq(_s.events, len(_issue_evts))"
   ]
  },
  {
   "cell_type": "markdown",
   "metadata": {},
   "source": [
    "If `ghevts` is not specified, all events are counted:"
   ]
  },
  {
   "cell_type": "code",
   "execution_count": null,
   "metadata": {},
   "outputs": [],
   "source": [
    "_s = ESpark('Issues', 'blue', span=5)\n",
    "_s.add_events(evts)\n",
    "test_eq(_s.events, len(evts))"
   ]
  },
  {
   "cell_type": "markdown",
   "metadata": {},
   "source": [
    "You can also just add one event at a time instead of a list of events:"
   ]
  },
  {
   "cell_type": "code",
   "execution_count": null,
   "metadata": {},
   "outputs": [],
   "source": [
    "_s = ESpark('Issues', 'blue', span=5)\n",
    "_s.add_events(evts[0])\n",
    "test_eq(_s.events, 1)"
   ]
  },
  {
   "cell_type": "markdown",
   "metadata": {},
   "source": [
    "## Update A Group of Sparklines with `SpkMap`"
   ]
  },
  {
   "cell_type": "code",
   "execution_count": null,
   "metadata": {},
   "outputs": [],
   "source": [
    "#export\n",
    "class SpkMap:\n",
    "    \"A Group of `ESpark` instances.\"\n",
    "    def __init__(self, spks:List[ESpark]): store_attr()\n",
    "    \n",
    "    @property\n",
    "    def evcounts(self): return dict([(s.nm, s.events) for s in self.spks])\n",
    "    \n",
    "    def update_params(self, store:int=None, span:float=None, stacked:bool=None, show_freq:bool=None):\n",
    "        for s in self.spks: \n",
    "            s.upd_hist(store=ifnone(store,s.store), span=ifnone(span,s.span))\n",
    "            s.stacked = ifnone(stacked,s.stacked)\n",
    "            s.show_freq = ifnone(show_freq,s.show_freq)\n",
    "        \n",
    "    def add_events(self, evts:GhEvent): \n",
    "        \"Update `SpkMap` sparkline historgrams with events.\"\n",
    "        evts = L([evts]) if isinstance(evts, dict) else L(evts)\n",
    "        for s in self.spks: s.add_events(evts)\n",
    "    \n",
    "    def __rich_console__(self, console: Console, options: ConsoleOptions): yield grid([self.spks])\n",
    "    __repr__ = basic_repr('spks')\n",
    "    "
   ]
  },
  {
   "cell_type": "markdown",
   "metadata": {},
   "source": [
    "You can define a `SpkMap` instance with a list of `ESpark`:"
   ]
  },
  {
   "cell_type": "code",
   "execution_count": null,
   "metadata": {},
   "outputs": [],
   "source": [
    "s1 = ESpark('Issues', 'green', [IssueCommentEvent, IssuesEvent], span=60)\n",
    "s2 = ESpark('PR', 'red', [PullRequestEvent, PullRequestReviewCommentEvent, PullRequestReviewEvent], span=60)\n",
    "s3 = ESpark('Follow', 'blue', [WatchEvent, StarEvent, IssueCommentEvent, IssuesEvent], span=60)\n",
    "s4 = ESpark('Other', 'red', span=60)\n",
    "\n",
    "sm = SpkMap([s1,s2,s3,s4])"
   ]
  },
  {
   "cell_type": "markdown",
   "metadata": {},
   "source": [
    "We haven't added any events to `SpkMap` so the event count will be zero for all sparklines:"
   ]
  },
  {
   "cell_type": "code",
   "execution_count": null,
   "metadata": {},
   "outputs": [
    {
     "data": {
      "text/plain": [
       "{'Issues': 0, 'PR': 0, 'Follow': 0, 'Other': 0}"
      ]
     },
     "execution_count": null,
     "metadata": {},
     "output_type": "execute_result"
    }
   ],
   "source": [
    "sm.evcounts"
   ]
  },
  {
   "cell_type": "markdown",
   "metadata": {},
   "source": [
    "In the above example, Issue events update both the `Issues` and `Follow` sparklines, as well as the `Other` sparkline which doesn't have any `GhEvent` type filters so it counts all events:"
   ]
  },
  {
   "cell_type": "code",
   "execution_count": null,
   "metadata": {},
   "outputs": [
    {
     "data": {
      "text/plain": [
       "{'Issues': 80, 'PR': 0, 'Follow': 80, 'Other': 80}"
      ]
     },
     "execution_count": null,
     "metadata": {},
     "output_type": "execute_result"
    }
   ],
   "source": [
    "sm.add_events(_issue_evts)\n",
    "test_eq(sm.evcounts['Issues'], len(_issue_evts))\n",
    "test_eq(sm.evcounts['Follow'], len(_issue_evts))\n",
    "test_eq(sm.evcounts['Other'], len(_issue_evts))\n",
    "\n",
    "sm.evcounts"
   ]
  },
  {
   "cell_type": "markdown",
   "metadata": {},
   "source": [
    "You can also just add one event at a time:"
   ]
  },
  {
   "cell_type": "code",
   "execution_count": null,
   "metadata": {},
   "outputs": [],
   "source": [
    "sm.add_events(_pr_evts[0])\n",
    "test_eq(sm.evcounts['PR'], 1)\n",
    "test_eq(sm.evcounts['Other'], len(_issue_evts)+1)"
   ]
  },
  {
   "cell_type": "markdown",
   "metadata": {},
   "source": [
    "It may be desirable to make certain attributes of the sparklines the same so the group can look consistent.  For example, by default sparklines are set to `stacked=True`, which means the labels are on top:"
   ]
  },
  {
   "cell_type": "code",
   "execution_count": null,
   "metadata": {},
   "outputs": [
    {
     "data": {
      "text/html": [
       "<pre style=\"white-space:pre;overflow-x:auto;line-height:normal;font-family:Menlo,'DejaVu Sans Mono',consolas,'Courier New',monospace\">        <span style=\"color: #008000\"> Issues</span>                  <span style=\"color: #800000\"> PR</span>                  <span style=\"color: #000080\"> Follow</span>                 <span style=\"color: #800000\"> Other</span>         \n",
       "         <span style=\"color: #008000\">3843</span>                    <span style=\"color: #800000\">46</span>                    <span style=\"color: #000080\">3609</span>                    <span style=\"color: #800000\">3553</span>          \n",
       "</pre>\n"
      ],
      "text/plain": [
       "<rich.jupyter.JupyterRenderable at 0x7ff881259190>"
      ]
     },
     "metadata": {},
     "output_type": "display_data"
    }
   ],
   "source": [
    "console.print(sm)"
   ]
  },
  {
   "cell_type": "markdown",
   "metadata": {},
   "source": [
    "We can update `stack=False` for the entire group with the `update_params` method:"
   ]
  },
  {
   "cell_type": "code",
   "execution_count": null,
   "metadata": {},
   "outputs": [
    {
     "data": {
      "text/html": [
       "<pre style=\"white-space:pre;overflow-x:auto;line-height:normal;font-family:Menlo,'DejaVu Sans Mono',consolas,'Courier New',monospace\">      <span style=\"color: #008000\"> Issues</span>  <span style=\"color: #008000\">0</span>               <span style=\"color: #800000\"> PR</span>  <span style=\"color: #800000\">0</span>               <span style=\"color: #000080\"> Follow</span>  <span style=\"color: #000080\">0</span>              <span style=\"color: #800000\"> Other</span>  <span style=\"color: #800000\">0</span>        \n",
       "</pre>\n"
      ],
      "text/plain": [
       "<rich.jupyter.JupyterRenderable at 0x7ff881259e50>"
      ]
     },
     "metadata": {},
     "output_type": "display_data"
    }
   ],
   "source": [
    "sm.update_params(stacked=False)\n",
    "console.print(sm)"
   ]
  },
  {
   "cell_type": "code",
   "execution_count": null,
   "metadata": {},
   "outputs": [
    {
     "data": {
      "application/vnd.jupyter.widget-view+json": {
       "model_id": "48082a32e6da4e70874a33f63fb8570d",
       "version_major": 2,
       "version_minor": 0
      },
      "text/plain": [
       "Output()"
      ]
     },
     "metadata": {},
     "output_type": "display_data"
    }
   ],
   "source": [
    "sm.update_params(stacked=True, span=.1, store=8)\n",
    "def _sim(s):\n",
    "    with Live(s) as live:\n",
    "        for i in range(200):\n",
    "            s.add_events(evts[:random.randint(0,500)])\n",
    "            time.sleep(random.randint(0,10)/100)\n",
    "_sim(sm)"
   ]
  },
  {
   "cell_type": "code",
   "execution_count": null,
   "metadata": {},
   "outputs": [
    {
     "data": {
      "text/html": [
       "<pre style=\"white-space:pre;overflow-x:auto;line-height:normal;font-family:Menlo,'DejaVu Sans Mono',consolas,'Courier New',monospace\">                                           <span style=\"color: #008000\"> Issues</span>                                           \n",
       "                                        <span style=\"color: #008000\">179 ▃▁▃▇▃▆▃▂</span>                                         \n",
       "</pre>\n"
      ],
      "text/plain": [
       "<rich.jupyter.JupyterRenderable at 0x7ff8812594c0>"
      ]
     },
     "metadata": {},
     "output_type": "display_data"
    }
   ],
   "source": [
    "console.print(sm.spks[0])"
   ]
  },
  {
   "cell_type": "markdown",
   "metadata": {},
   "source": [
    "### Stats - Sparklines, Progress bars and Counts Combined\n",
    "\n",
    "We may want to combine sparklines (with `ESpark`), spinners, and progress bars (with `EProg`) to display organized information concerning an event stream.  `Stats` helps you create, group, display and update these elements together."
   ]
  },
  {
   "cell_type": "code",
   "execution_count": null,
   "metadata": {},
   "outputs": [],
   "source": [
    "#export\n",
    "\n",
    "class Stats(SpkMap):\n",
    "    \"Renders a group of `ESpark` along with a spinner and progress bar that are dynamically sized.\"\n",
    "    def __init__(self, spks:List[ESpark], store=None, span=None, stacked=None, show_freq=None, max_width=console.width-5, spin:str='earth', spn_lbl=\"/min\"):\n",
    "        super().__init__(spks)\n",
    "        self.update_params(store=store, span=span, stacked=stacked, show_freq=show_freq)\n",
    "        store_attr()\n",
    "        self.spn = Spinner(spin)\n",
    "        self.slen = len(spks) * max(15, store*2)\n",
    "        self.plen = max(store, 10) # max(max_width-self.slen-15, 15)\n",
    "        self.progbar = EProg(width=self.plen)\n",
    "        \n",
    "    def get_spk(self): return grid([self.spks], width=min(console.width-15, self.slen), expand=False)\n",
    "    \n",
    "    def get_spinner(self): return grid([[self.spn], [self.spn_lbl]])\n",
    "        \n",
    "    def update_prog(self, pct_complete:int=None): self.progbar.update(pct_complete) if pct_complete else noop()\n",
    "        \n",
    "    def __rich_console__(self, console: Console, options: ConsoleOptions): \n",
    "        yield grid([[self.get_spinner(), self.get_spk(), grid([[self.progbar]], width=self.plen+5) ]], width=self.max_width)\n"
   ]
  },
  {
   "cell_type": "markdown",
   "metadata": {},
   "source": [
    "Instantiate `Stats` with a list of `Espark` instances.  The parameters: `store`, `span`, and `stacked` allow you to set or override properties of underlying sparklines for consistency.  "
   ]
  },
  {
   "cell_type": "code",
   "execution_count": null,
   "metadata": {},
   "outputs": [
    {
     "data": {
      "application/vnd.jupyter.widget-view+json": {
       "model_id": "e51ee19ea1ef4e4ca17dce11f5564e62",
       "version_major": 2,
       "version_minor": 0
      },
      "text/plain": [
       "Output()"
      ]
     },
     "metadata": {},
     "output_type": "display_data"
    },
    {
     "data": {
      "text/html": [
       "<pre style=\"white-space:pre;overflow-x:auto;line-height:normal;font-family:Menlo,'DejaVu Sans Mono',consolas,'Courier New',monospace\"> 🌍      <span style=\"color: #008000\"> Issues</span>          <span style=\"color: #800000\"> PR</span>          <span style=\"color: #000080\"> Follow</span>        <span style=\"color: #800000\"> Other</span>               Quota        \n",
       "/min        <span style=\"color: #008000\">0</span>              <span style=\"color: #800000\">0</span>              <span style=\"color: #000080\">0</span>              <span style=\"color: #800000\">0</span>              <span style=\"color: #3a3a3a\">━━━━━━━</span> <span style=\"color: #800080\">  0%</span>    \n",
       "</pre>\n"
      ],
      "text/plain": [
       "<rich.jupyter.JupyterRenderable at 0x7ff87057e3a0>"
      ]
     },
     "metadata": {},
     "output_type": "display_data"
    }
   ],
   "source": [
    "s1 = ESpark('Issues', 'green', [IssueCommentEvent, IssuesEvent])\n",
    "s2 = ESpark('PR', 'red', [PullRequestEvent, PullRequestReviewCommentEvent, PullRequestReviewEvent])\n",
    "s3 = ESpark('Follow', 'blue', [WatchEvent, StarEvent])\n",
    "s4 = ESpark('Other', 'red')\n",
    "\n",
    "s = Stats([s1,s2,s3,s4], store=5, span=.1, stacked=True)\n",
    "console.print(s)"
   ]
  },
  {
   "cell_type": "markdown",
   "metadata": {},
   "source": [
    "You can add events to update counters and sparklines just like `SpkMap`:"
   ]
  },
  {
   "cell_type": "code",
   "execution_count": null,
   "metadata": {},
   "outputs": [
    {
     "data": {
      "text/html": [
       "<pre style=\"white-space:pre;overflow-x:auto;line-height:normal;font-family:Menlo,'DejaVu Sans Mono',consolas,'Courier New',monospace\"> 🌍      <span style=\"color: #008000\"> Issues</span>          <span style=\"color: #800000\"> PR</span>          <span style=\"color: #000080\"> Follow</span>        <span style=\"color: #800000\"> Other</span>               Quota        \n",
       "/min      <span style=\"color: #008000\">2789</span>           <span style=\"color: #800000\">3468</span>           <span style=\"color: #000080\">1124</span>           <span style=\"color: #800000\">32347</span>            <span style=\"color: #3a3a3a\">━━━━━━━</span> <span style=\"color: #800080\">  0%</span>    \n",
       "</pre>\n"
      ],
      "text/plain": [
       "<rich.jupyter.JupyterRenderable at 0x7ff881241400>"
      ]
     },
     "metadata": {},
     "output_type": "display_data"
    }
   ],
   "source": [
    "s.add_events(evts)\n",
    "console.print(s)"
   ]
  },
  {
   "cell_type": "markdown",
   "metadata": {},
   "source": [
    "You can update the progress bar with the `update_prog` method: "
   ]
  },
  {
   "cell_type": "code",
   "execution_count": null,
   "metadata": {},
   "outputs": [
    {
     "data": {
      "text/html": [
       "<pre style=\"white-space:pre;overflow-x:auto;line-height:normal;font-family:Menlo,'DejaVu Sans Mono',consolas,'Courier New',monospace\"> 🌍      <span style=\"color: #008000\"> Issues</span>          <span style=\"color: #800000\"> PR</span>          <span style=\"color: #000080\"> Follow</span>        <span style=\"color: #800000\"> Other</span>               Quota        \n",
       "/min      <span style=\"color: #008000\">1947</span>           <span style=\"color: #800000\">2440</span>            <span style=\"color: #000080\">800</span>           <span style=\"color: #800000\">23174</span>            <span style=\"color: #f92672\">━━━╸</span><span style=\"color: #3a3a3a\">━━━</span> <span style=\"color: #800080\"> 50%</span>    \n",
       "</pre>\n"
      ],
      "text/plain": [
       "<rich.jupyter.JupyterRenderable at 0x7ff87057efd0>"
      ]
     },
     "metadata": {},
     "output_type": "display_data"
    }
   ],
   "source": [
    "s.update_prog(50)\n",
    "console.print(s)"
   ]
  },
  {
   "cell_type": "markdown",
   "metadata": {},
   "source": [
    "Here is what this looks like when animated using `Live`:"
   ]
  },
  {
   "cell_type": "code",
   "execution_count": null,
   "metadata": {},
   "outputs": [
    {
     "data": {
      "application/vnd.jupyter.widget-view+json": {
       "model_id": "6404be2c44f84bf29a78a2226b2657e9",
       "version_major": 2,
       "version_minor": 0
      },
      "text/plain": [
       "Output()"
      ]
     },
     "metadata": {},
     "output_type": "display_data"
    }
   ],
   "source": [
    "def _sim_spark(s):\n",
    "    with Live(s) as live:\n",
    "        for i in range(101):\n",
    "            s.update_prog(i)\n",
    "            s.add_events(evts[:random.randint(0,500)])\n",
    "            time.sleep(random.randint(0,10)/100)\n",
    "\n",
    "s.update_params(span=1, show_freq=True)\n",
    "_sim_spark(s)"
   ]
  },
  {
   "cell_type": "markdown",
   "metadata": {},
   "source": [
    "## Event Panel\n",
    "\n",
    "Display GitHub events in a `FixedPanel`, which is a frame of fixed height that displays streaming data."
   ]
  },
  {
   "cell_type": "code",
   "execution_count": null,
   "metadata": {},
   "outputs": [],
   "source": [
    "#export\n",
    "@patch\n",
    "def __rich_console__(self:GhEvent, console, options):\n",
    "    res = Segments(options)\n",
    "    kw = {'color': colors[self.type]}\n",
    "    res.add(f'{self.emoji}  ')\n",
    "    res.add(self.actor.login, pct=0.25, bold=True, **kw)\n",
    "    res.add(self.description, pct=0.5, **kw)\n",
    "    res.add(self.repo.name, pct=0.5 if self.text else 1, space = ': ' if self.text else '', italic=True, **kw)\n",
    "    if self.text: \n",
    "        clean_text = self.text.replace('\\n', ' ').replace('\\n', ' ')\n",
    "        res.add (f'\"{clean_text}\"', pct=1, space='', **kw)\n",
    "    res.add('\\n')\n",
    "    return res"
   ]
  },
  {
   "cell_type": "code",
   "execution_count": null,
   "metadata": {},
   "outputs": [],
   "source": [
    "#export\n",
    "colors = dict(\n",
    "    PushEvent=None, CreateEvent=Color.red, IssueCommentEvent=Color.green, WatchEvent=Color.yellow,\n",
    "    PullRequestEvent=Color.blue, PullRequestReviewEvent=Color.magenta, PullRequestReviewCommentEvent=Color.cyan,\n",
    "    DeleteEvent=Color.bright_red, ForkEvent=Color.bright_green, IssuesEvent=Color.bright_magenta,\n",
    "    ReleaseEvent=Color.bright_blue, MemberEvent=Color.bright_yellow, CommitCommentEvent=Color.bright_cyan,\n",
    "    GollumEvent=Color.white, PublicEvent=Color.turquoise4)\n",
    "\n",
    "colors2 = dict(\n",
    "    PushEvent=None, CreateEvent=Color.dodger_blue1, IssueCommentEvent=Color.tan, WatchEvent=Color.steel_blue1,\n",
    "    PullRequestEvent=Color.deep_pink1, PullRequestReviewEvent=Color.slate_blue1, PullRequestReviewCommentEvent=Color.tan,\n",
    "    DeleteEvent=Color.light_pink1, ForkEvent=Color.orange1, IssuesEvent=Color.medium_violet_red,\n",
    "    ReleaseEvent=Color.green1, MemberEvent=Color.orchid1, CommitCommentEvent=Color.tan,\n",
    "    GollumEvent=Color.sea_green1, PublicEvent=Color.magenta2)"
   ]
  },
  {
   "cell_type": "code",
   "execution_count": null,
   "metadata": {},
   "outputs": [
    {
     "data": {
      "text/html": [
       "<pre style=\"white-space:pre;overflow-x:auto;line-height:normal;font-family:Menlo,'DejaVu Sans Mono',consolas,'Courier New',monospace\"> ────────────────────────────────────────── ghtop ────────────────────────────────────────── \n",
       "  ⭐  <span style=\"font-weight: bold\">diddledan </span>pushed 1 commits to \"master\" in <span style=\"font-style: italic\">diddlesnaps/openttd</span>                          \n",
       "  ⭐  <span style=\"font-weight: bold\">veigarbot </span>pushed 1 commits to \"main\" in <span style=\"font-style: italic\">veigarbot/veigarbot.github.io</span>                  \n",
       "  ⭐  <span style=\"font-weight: bold\">FromDarkHell </span>pushed 1 commits to \"main\" in <span style=\"font-style: italic\">FromDarkHell/Simulstream</span>                    \n",
       "  🏭  <span style=\"color: #800000; font-weight: bold\">pg45 </span><span style=\"color: #800000\">created branch \"add-headers\" in </span><span style=\"color: #800000; font-style: italic\">pg45/markdown-portfolio</span>                           \n",
       "  💬  <span style=\"color: #008000; font-weight: bold\">ljwagerfield </span><span style=\"color: #008000\">created comment on issue #743 in </span><span style=\"color: #008000; font-style: italic\">lukeautry/tsoa: </span><span style=\"color: #008000\">\"@rudfoss did you find…</span>  \n",
       "  ⭐  <span style=\"font-weight: bold\">KwameTaylor </span>pushed 1 commits to \"main\" in <span style=\"font-style: italic\">SpotiScryers/SpotiScry</span>                       \n",
       "  👀  <span style=\"color: #808000; font-weight: bold\">okeeffdp </span><span style=\"color: #808000\">started watching </span><span style=\"color: #808000; font-style: italic\">alshedivat/al-folio</span>                                          \n",
       "  📬  <span style=\"color: #000080; font-weight: bold\">JlchavezG </span><span style=\"color: #000080\">opened PR #43 on </span><span style=\"color: #000080; font-style: italic\">JlchavezG/Psbg: </span><span style=\"color: #000080\">\"Se agregan notificaciones\"</span>                 \n",
       "  👀  <span style=\"color: #808000; font-weight: bold\">Lit3r4lly </span><span style=\"color: #808000\">started watching </span><span style=\"color: #808000; font-style: italic\">0xgalz/Virtuailor</span>                                           \n",
       "  🏭  <span style=\"color: #800000; font-weight: bold\">Nabil1907 </span><span style=\"color: #800000\">created repository in </span><span style=\"color: #800000; font-style: italic\">Nabil1907/Node-js-Projects</span>                             \n",
       "  ⭐  <span style=\"font-weight: bold\">NotWhoYoureThinkingOf </span>pushed 1 commits to \"main\" in <span style=\"font-style: italic\">NotWhoYoureThinkingOf/fb-clone</span>     \n",
       "  🏭  <span style=\"color: #800000; font-weight: bold\">thoriqkemal </span><span style=\"color: #800000\">created repository in </span><span style=\"color: #800000; font-style: italic\">thoriqkemal/tig: </span><span style=\"color: #800000\">\"tig tig\"</span>                           \n",
       "  ⭐  <span style=\"font-weight: bold\">WrathfulSpatula </span>pushed 1 commits to \"master\" in <span style=\"font-style: italic\">WrathfulSpatula/OpenRelativity</span>         \n",
       "  ⭐  <span style=\"font-weight: bold\">alinapopaqb </span>pushed 1 commits to \"master\" in <span style=\"font-style: italic\">alinkamalvinka/cdond-c3-projectstarter</span>     \n",
       "  ⭐  <span style=\"font-weight: bold\">LombiqBot </span>pushed 0 commits to \"MatteoPiovanelli…<span style=\"font-style: italic\">Lombiq/Orchard</span>                         \n",
       " ─────────────────────────────────────────────────────────────────────────────────────────── \n",
       "</pre>\n"
      ],
      "text/plain": [
       "<ghtop.all_rich.FixedPanel at 0x7ff88116be50>"
      ]
     },
     "execution_count": null,
     "metadata": {},
     "output_type": "execute_result"
    }
   ],
   "source": [
    "p = FixedPanel(15, box=box.HORIZONTALS, title='ghtop')\n",
    "for e in evts[:163]: p.append(e)\n",
    "p"
   ]
  },
  {
   "cell_type": "markdown",
   "metadata": {},
   "source": [
    "#### Using `grid` with `FixedPanel`"
   ]
  },
  {
   "cell_type": "markdown",
   "metadata": {},
   "source": [
    "We can use `grid` to arrange multiple `FixedPanel` instances in rows and columns.  Below is an example of how two `FixedPanel` instances can be arranged in a row:"
   ]
  },
  {
   "cell_type": "code",
   "execution_count": null,
   "metadata": {},
   "outputs": [
    {
     "data": {
      "text/html": [
       "<pre style=\"white-space:pre;overflow-x:auto;line-height:normal;font-family:Menlo,'DejaVu Sans Mono',consolas,'Courier New',monospace\"> ─────────────────── ghtop ───────────────────  ────────────────── ghtop ─────────────────── \n",
       "  ⭐  <span style=\"font-weight: bold\">BeckhamL </span>pushed 1 commi…<span style=\"font-style: italic\">BeckhamL/leetc…</span>    ⭐  <span style=\"font-weight: bold\">BeckhamL </span>pushed 1 commi…<span style=\"font-style: italic\">BeckhamL/leet…</span>  \n",
       "  🏭  <span style=\"color: #800000; font-weight: bold\">admmonito…</span><span style=\"color: #800000\">created branch…</span><span style=\"color: #800000; font-style: italic\">admmon…</span><span style=\"color: #800000\">\"This …</span>    🏭  <span style=\"color: #800000; font-weight: bold\">admmonito…</span><span style=\"color: #800000\">created branc…</span><span style=\"color: #800000; font-style: italic\">admmon…</span><span style=\"color: #800000\">\"This …</span>  \n",
       "  💬  <span style=\"color: #008000; font-weight: bold\">Holzhaus </span><span style=\"color: #008000\">created commen…</span><span style=\"color: #008000; font-style: italic\">mixxxdj…</span><span style=\"color: #008000\">\"I reo…</span>    💬  <span style=\"color: #008000; font-weight: bold\">Holzhaus </span><span style=\"color: #008000\">created commen…</span><span style=\"color: #008000; font-style: italic\">mixxxd…</span><span style=\"color: #008000\">\"I reo…</span>  \n",
       "  👀  <span style=\"color: #808000; font-weight: bold\">mikalacki…</span><span style=\"color: #808000\">started watchi…</span><span style=\"color: #808000; font-style: italic\">microg/GmsCore</span>    👀  <span style=\"color: #808000; font-weight: bold\">mikalacki…</span><span style=\"color: #808000\">started watch…</span><span style=\"color: #808000; font-style: italic\">microg/GmsCore</span>  \n",
       "  📪  <span style=\"color: #000080; font-weight: bold\">Didier-D-…</span><span style=\"color: #000080\">closed PR #3 o…</span><span style=\"color: #000080; font-style: italic\">Didier…</span><span style=\"color: #000080\">\"Bump …</span>    📪  <span style=\"color: #000080; font-weight: bold\">Didier-D-…</span><span style=\"color: #000080\">closed PR #3 …</span><span style=\"color: #000080; font-style: italic\">Didier…</span><span style=\"color: #000080\">\"Bump …</span>  \n",
       "  💌  <span style=\"color: #800080; font-weight: bold\">kadirselc…</span><span style=\"color: #800080\">created PR rev…</span><span style=\"color: #800080; font-style: italic\">turkdevops/no…</span>    💌  <span style=\"color: #800080; font-weight: bold\">kadirselc…</span><span style=\"color: #800080\">created PR re…</span><span style=\"color: #800080; font-style: italic\">turkdevops/no…</span>  \n",
       "  🗨  <span style=\"color: #008080; font-weight: bold\">mobinmob </span><span style=\"color: #008080\">created review …</span><span style=\"color: #008080; font-style: italic\">void-li…</span><span style=\"color: #008080\">\"Οκ 👍\"</span>    🗨  <span style=\"color: #008080; font-weight: bold\">mobinmob </span><span style=\"color: #008080\">created review…</span><span style=\"color: #008080; font-style: italic\">void-li…</span><span style=\"color: #008080\">\"Οκ 👍\"</span>  \n",
       "  ✂  <span style=\"color: #ff0000; font-weight: bold\">heehee3 </span><span style=\"color: #ff0000\">deleted branch …</span><span style=\"color: #ff0000; font-style: italic\">heehee3/Proyect…</span>    ✂  <span style=\"color: #ff0000; font-weight: bold\">heehee3 </span><span style=\"color: #ff0000\">deleted branch …</span><span style=\"color: #ff0000; font-style: italic\">heehee3/Proyec…</span>  \n",
       "  🍽  <span style=\"color: #00ff00; font-weight: bold\">Tubbz-alt </span><span style=\"color: #00ff00\">forked </span><span style=\"color: #00ff00; font-style: italic\">fortran-lan…</span><span style=\"color: #00ff00\">\"Fortran w…</span>    🍽  <span style=\"color: #00ff00; font-weight: bold\">Tubbz-alt </span><span style=\"color: #00ff00\">forked </span><span style=\"color: #00ff00; font-style: italic\">fortran-la…</span><span style=\"color: #00ff00\">\"Fortran w…</span>  \n",
       "  🐛  <span style=\"color: #ff00ff; font-weight: bold\">oulasvirt…</span><span style=\"color: #ff00ff\">opened issue #…</span><span style=\"color: #ff00ff; font-style: italic\">oulasv…</span><span style=\"color: #ff00ff\">\"Title\"</span>    🐛  <span style=\"color: #ff00ff; font-weight: bold\">oulasvirt…</span><span style=\"color: #ff00ff\">opened issue …</span><span style=\"color: #ff00ff; font-style: italic\">oulasv…</span><span style=\"color: #ff00ff\">\"Title\"</span>  \n",
       "  🚀  <span style=\"color: #0000ff; font-weight: bold\">github-ac…</span><span style=\"color: #0000ff\">published rele…</span><span style=\"color: #0000ff; font-style: italic\">Anuken/Mindus…</span>    🚀  <span style=\"color: #0000ff; font-weight: bold\">github-ac…</span><span style=\"color: #0000ff\">published rel…</span><span style=\"color: #0000ff; font-style: italic\">Anuken/Mindus…</span>  \n",
       "  💃  <span style=\"color: #ffff00; font-weight: bold\">laurofilh…</span><span style=\"color: #ffff00\">added member b…</span><span style=\"color: #ffff00; font-style: italic\">laurofilho96/…</span>    💃  <span style=\"color: #ffff00; font-weight: bold\">laurofilh…</span><span style=\"color: #ffff00\">added member …</span><span style=\"color: #ffff00; font-style: italic\">laurofilho96/…</span>  \n",
       "  🎉  <span style=\"color: #00ffff; font-weight: bold\">vercel[bo…</span><span style=\"color: #00ffff\">created commit…</span><span style=\"color: #00ffff; font-style: italic\">LCinde…</span><span style=\"color: #00ffff\">\"Succe…</span>    🎉  <span style=\"color: #00ffff; font-weight: bold\">vercel[bo…</span><span style=\"color: #00ffff\">created commi…</span><span style=\"color: #00ffff; font-style: italic\">LCinde…</span><span style=\"color: #00ffff\">\"Succe…</span>  \n",
       "  📚  <span style=\"color: #c0c0c0; font-weight: bold\">adrianggc </span><span style=\"color: #c0c0c0\">edited wiki pa…</span><span style=\"color: #c0c0c0; font-style: italic\">adrianggc/Die…</span>    📚  <span style=\"color: #c0c0c0; font-weight: bold\">adrianggc </span><span style=\"color: #c0c0c0\">edited wiki p…</span><span style=\"color: #c0c0c0; font-style: italic\">adrianggc/Die…</span>  \n",
       " ─────────────────────────────────────────────  ──────────────────────────────────────────── \n",
       "</pre>\n"
      ],
      "text/plain": [
       "<rich.table.Table at 0x7ff88116b250>"
      ]
     },
     "execution_count": null,
     "metadata": {},
     "output_type": "execute_result"
    }
   ],
   "source": [
    "p = FixedPanel(15, box=box.HORIZONTALS, title='ghtop')\n",
    "for e in exs: p.append(e)\n",
    "grid([[p,p]])"
   ]
  },
  {
   "cell_type": "markdown",
   "metadata": {},
   "source": [
    "Here is another example of a four `FixedPanel` instances arranged in two rows and two columns:"
   ]
  },
  {
   "cell_type": "code",
   "execution_count": null,
   "metadata": {},
   "outputs": [],
   "source": [
    "types = IssueCommentEvent,IssuesEvent,PullRequestEvent,PullRequestReviewEvent\n",
    "ps = {o:FixedPanel(15, box=box.HORIZONTALS, title=camel2words(remove_suffix(o.__name__,'Event'))) for o in types}"
   ]
  },
  {
   "cell_type": "code",
   "execution_count": null,
   "metadata": {},
   "outputs": [
    {
     "data": {
      "text/html": [
       "<pre style=\"white-space:pre;overflow-x:auto;line-height:normal;font-family:Menlo,'DejaVu Sans Mono',consolas,'Courier New',monospace\"> ─────────────────── Issue Comment ───────────────────  ────────────────────── Issues ─────────────────────── \n",
       "  💬  <span style=\"color: #008000; font-weight: bold\">sanskritbsc…</span><span style=\"color: #008000\">created comment o…</span><span style=\"color: #008000; font-style: italic\">sanskrit…</span><span style=\"color: #008000\">\"fixed …</span>    🐛  <span style=\"color: #ff00ff; font-weight: bold\">github-lear…</span><span style=\"color: #ff00ff\">opened issue #1 o…</span><span style=\"color: #ff00ff; font-style: italic\">pg45/mar…</span><span style=\"color: #ff00ff\">\"Gettin…</span>  \n",
       "  💬  <span style=\"color: #008000; font-weight: bold\">github-lear…</span><span style=\"color: #008000\">created comment o…</span><span style=\"color: #008000; font-style: italic\">pfxsys/g…</span><span style=\"color: #008000\">\"## Ste…</span>    🐛  <span style=\"color: #ff00ff; font-weight: bold\">NillerMedDi…</span><span style=\"color: #ff00ff\">opened issue #3 o…</span><span style=\"color: #ff00ff; font-style: italic\">gigabit1…</span><span style=\"color: #ff00ff\">\"[Reque…</span>  \n",
       "  💬  <span style=\"color: #008000; font-weight: bold\">moezzineb </span><span style=\"color: #008000\">created comment on…</span><span style=\"color: #008000; font-style: italic\">flutter/…</span><span style=\"color: #008000\">\"Voila :…</span>    🐛  <span style=\"color: #ff00ff; font-weight: bold\">lucasfarias…</span><span style=\"color: #ff00ff\">opened issue #2 o…</span><span style=\"color: #ff00ff; font-style: italic\">lucasfar…</span><span style=\"color: #ff00ff\">\"Issue …</span>  \n",
       "  💬  <span style=\"color: #008000; font-weight: bold\">JustSlone </span><span style=\"color: #008000\">created comment on…</span><span style=\"color: #008000; font-style: italic\">microsof…</span><span style=\"color: #008000\">\"So read…</span>    🐛  <span style=\"color: #ff00ff; font-weight: bold\">jabolopes </span><span style=\"color: #ff00ff\">opened issue #44 o…</span><span style=\"color: #ff00ff; font-style: italic\">lafriks/…</span><span style=\"color: #ff00ff\">\"Possibl…</span>  \n",
       "  💬  <span style=\"color: #008000; font-weight: bold\">codecov[bot…</span><span style=\"color: #008000\">created comment o…</span><span style=\"color: #008000; font-style: italic\">open-mml…</span><span style=\"color: #008000\">\"# [Cod…</span>    🐛  <span style=\"color: #ff00ff; font-weight: bold\">aisaioop </span><span style=\"color: #ff00ff\">opened issue #1598…</span><span style=\"color: #ff00ff; font-style: italic\">aisaioop/…</span><span style=\"color: #ff00ff\">\"北京通州</span>  \n",
       "  💬  <span style=\"color: #008000; font-weight: bold\">mightybart </span><span style=\"color: #008000\">created comment o…</span><span style=\"color: #008000; font-style: italic\">floriank…</span><span style=\"color: #008000\">\"Current…</span>    🐛  <span style=\"color: #ff00ff; font-weight: bold\">jonathannag…</span><span style=\"color: #ff00ff\">opened issue #23 …</span><span style=\"color: #ff00ff; font-style: italic\">navikt/m…</span><span style=\"color: #ff00ff\">\"Access…</span>  \n",
       "  💬  <span style=\"color: #008000; font-weight: bold\">Joulinar </span><span style=\"color: #008000\">created comment on…</span><span style=\"color: #008000; font-style: italic\">MichaIng/…</span><span style=\"color: #008000\">\"Hi,    …</span>    🐛  <span style=\"color: #ff00ff; font-weight: bold\">aisaioop </span><span style=\"color: #ff00ff\">opened issue #1599…</span><span style=\"color: #ff00ff; font-style: italic\">aisaioop/…</span><span style=\"color: #ff00ff\">\"上海黄浦</span>  \n",
       "  💬  <span style=\"color: #008000; font-weight: bold\">9mm </span><span style=\"color: #008000\">created comment on is…</span><span style=\"color: #008000; font-style: italic\">rubycdp/fe…</span><span style=\"color: #008000\">\"@route h…</span>    🐛  <span style=\"color: #ff00ff; font-weight: bold\">helmrich </span><span style=\"color: #ff00ff\">opened issue #27 o…</span><span style=\"color: #ff00ff; font-style: italic\">vinceliui…</span><span style=\"color: #ff00ff\">\"Spotify…</span>  \n",
       "  💬  <span style=\"color: #008000; font-weight: bold\">dependabot[…</span><span style=\"color: #008000\">created comment o…</span><span style=\"color: #008000; font-style: italic\">herzliya…</span><span style=\"color: #008000\">\"Looks …</span>    🐛  <span style=\"color: #ff00ff; font-weight: bold\">github-acti…</span><span style=\"color: #ff00ff\">opened issue #204…</span><span style=\"color: #ff00ff; font-style: italic\">Sakzsee/…</span><span style=\"color: #ff00ff\">\"Error …</span>  \n",
       "  💬  <span style=\"color: #008000; font-weight: bold\">codepope </span><span style=\"color: #008000\">created comment on…</span><span style=\"color: #008000; font-style: italic\">superfly/…</span><span style=\"color: #008000\">\"That's …</span>    🐛  <span style=\"color: #ff00ff; font-weight: bold\">aisaioop </span><span style=\"color: #ff00ff\">opened issue #1600…</span><span style=\"color: #ff00ff; font-style: italic\">aisaioop/…</span><span style=\"color: #ff00ff\">\"北京门头</span>  \n",
       "  💬  <span style=\"color: #008000; font-weight: bold\">poelzi </span><span style=\"color: #008000\">created comment on …</span><span style=\"color: #008000; font-style: italic\">mixxxdj/m…</span><span style=\"color: #008000\">\"@Be-ing …</span>    🎁  <span style=\"color: #ff00ff; font-weight: bold\">glutamate </span><span style=\"color: #ff00ff\">closed issue #466 …</span><span style=\"color: #ff00ff; font-style: italic\">saltcorn…</span><span style=\"color: #ff00ff\">\"Forgott…</span>  \n",
       "  💬  <span style=\"color: #008000; font-weight: bold\">ethindp </span><span style=\"color: #008000\">created comment on …</span><span style=\"color: #008000; font-style: italic\">rust-osde…</span><span style=\"color: #008000\">\"I disag…</span>    🐛  <span style=\"color: #ff00ff; font-weight: bold\">autocode-ap…</span><span style=\"color: #ff00ff\">opened issue #793…</span><span style=\"color: #ff00ff; font-style: italic\">imamandr…</span><span style=\"color: #ff00ff\">\"https:…</span>  \n",
       "  💬  <span style=\"color: #008000; font-weight: bold\">michaelforn…</span><span style=\"color: #008000\">created comment o…</span><span style=\"color: #008000; font-style: italic\">oasislin…</span><span style=\"color: #008000\">\"Thanks…</span>    🎁  <span style=\"color: #ff00ff; font-weight: bold\">sanskritbsc…</span><span style=\"color: #ff00ff\">closed issue #3 o…</span><span style=\"color: #ff00ff; font-style: italic\">sanskrit…</span><span style=\"color: #ff00ff\">\"someth…</span>  \n",
       "  💬  <span style=\"color: #008000; font-weight: bold\">stale[bot] </span><span style=\"color: #008000\">created comment o…</span><span style=\"color: #008000; font-style: italic\">ironhack…</span><span style=\"color: #008000\">\"This pu…</span>    🐛  <span style=\"color: #ff00ff; font-weight: bold\">aisaioop </span><span style=\"color: #ff00ff\">opened issue #1601…</span><span style=\"color: #ff00ff; font-style: italic\">aisaioop/…</span><span style=\"color: #ff00ff\">\"上海宝山</span>  \n",
       "  💬  <span style=\"color: #008000; font-weight: bold\">awolf78 </span><span style=\"color: #008000\">created comment on …</span><span style=\"color: #008000; font-style: italic\">ImpulseRC…</span><span style=\"color: #008000\">\"If you …</span>    🐛  <span style=\"color: #ff00ff; font-weight: bold\">slingamn </span><span style=\"color: #ff00ff\">opened issue #1455…</span><span style=\"color: #ff00ff; font-style: italic\">oragono/o…</span><span style=\"color: #ff00ff\">\"split m…</span>  \n",
       " ─────────────────────────────────────────────────────  ───────────────────────────────────────────────────── \n",
       " ─────────────────── Pull Request ────────────────────  ──────────────── Pull Request Review ──────────────── \n",
       "  📪  <span style=\"color: #000080; font-weight: bold\">alexerlands…</span><span style=\"color: #000080\">closed PR #5 on </span><span style=\"color: #000080; font-style: italic\">alexerlan…</span><span style=\"color: #000080\">\"Bump in…</span>                                                         \n",
       "  📬  <span style=\"color: #000080; font-weight: bold\">constancefe…</span><span style=\"color: #000080\">opened PR #85 on </span><span style=\"color: #000080; font-style: italic\">lucienwa…</span><span style=\"color: #000080\">\"week 5 …</span>                                                         \n",
       "  📬  <span style=\"color: #000080; font-weight: bold\">jyshangguan </span><span style=\"color: #000080\">opened PR #1 on </span><span style=\"color: #000080; font-style: italic\">jyshanggu…</span><span style=\"color: #000080\">\"add ima…</span>    💌  <span style=\"color: #800080; font-weight: bold\">kadirselcuk </span><span style=\"color: #800080\">created PR review…</span><span style=\"color: #800080; font-style: italic\">turkdevops/node</span>    \n",
       "  📪  <span style=\"color: #000080; font-weight: bold\">Ryukishi </span><span style=\"color: #000080\">closed PR #2 on </span><span style=\"color: #000080; font-style: italic\">adibhanna/…</span><span style=\"color: #000080\">\"Feature/p…</span>    💌  <span style=\"color: #800080; font-weight: bold\">mobinmob </span><span style=\"color: #800080\">created PR review …</span><span style=\"color: #800080; font-style: italic\">void-linux/void-pa…</span>  \n",
       "  📪  <span style=\"color: #000080; font-weight: bold\">ahocevar </span><span style=\"color: #000080\">closed PR #11811 o…</span><span style=\"color: #000080; font-style: italic\">openlayer…</span><span style=\"color: #000080\">\"Better …</span>    💌  <span style=\"color: #800080; font-weight: bold\">swatso2020 </span><span style=\"color: #800080\">created PR review…</span><span style=\"color: #800080; font-style: italic\">swatso2020/Projec…</span>  \n",
       "  📬  <span style=\"color: #000080; font-weight: bold\">snyk-bot </span><span style=\"color: #000080\">opened PR #84 on </span><span style=\"color: #000080; font-style: italic\">stelthdroi…</span><span style=\"color: #000080\">\"[Snyk] S…</span>    💌  <span style=\"color: #800080; font-weight: bold\">github-lear…</span><span style=\"color: #800080\">created PR review…</span><span style=\"color: #800080; font-style: italic\">theaioat…</span><span style=\"color: #800080\">\"## Ste…</span>  \n",
       "  📪  <span style=\"color: #000080; font-weight: bold\">mennovanemm…</span><span style=\"color: #000080\">closed PR #27 on </span><span style=\"color: #000080; font-style: italic\">Softimis…</span><span style=\"color: #000080\">\"Ship Mo…</span>    💌  <span style=\"color: #800080; font-weight: bold\">ASchwad </span><span style=\"color: #800080\">created PR review i…</span><span style=\"color: #800080; font-style: italic\">reaviz/reaflow</span>       \n",
       "  📪  <span style=\"color: #000080; font-weight: bold\">Chramox </span><span style=\"color: #000080\">closed PR #4 on </span><span style=\"color: #000080; font-style: italic\">Chramox/tyt…</span><span style=\"color: #000080\">\"Update\"</span>       💌  <span style=\"color: #800080; font-weight: bold\">francinaPon…</span><span style=\"color: #800080\">created PR review…</span><span style=\"color: #800080; font-style: italic\">UB-ES-2020-A/Gru…</span>  \n",
       "  📪  <span style=\"color: #000080; font-weight: bold\">gabriel-hah…</span><span style=\"color: #000080\">closed PR #128 on </span><span style=\"color: #000080; font-style: italic\">gabriel-…</span><span style=\"color: #000080\">\"Bump @…</span>    💌  <span style=\"color: #800080; font-weight: bold\">aaronPeruga </span><span style=\"color: #800080\">created PR review…</span><span style=\"color: #800080; font-style: italic\">UB-ES-2020-A/Gru…</span>  \n",
       "  📬  <span style=\"color: #000080; font-weight: bold\">distantnati…</span><span style=\"color: #000080\">opened PR #1103 o…</span><span style=\"color: #000080; font-style: italic\">getkirby…</span><span style=\"color: #000080\">\"Remove…</span>    💌  <span style=\"color: #800080; font-weight: bold\">ahocevar </span><span style=\"color: #800080\">created PR review …</span><span style=\"color: #800080; font-style: italic\">openlayer…</span><span style=\"color: #800080\">\"Thanks,…</span>  \n",
       "  📬  <span style=\"color: #000080; font-weight: bold\">pull[bot] </span><span style=\"color: #000080\">opened PR #534 on </span><span style=\"color: #000080; font-style: italic\">antosubas…</span><span style=\"color: #000080\">\"[pull] …</span>    💌  <span style=\"color: #800080; font-weight: bold\">nedbat </span><span style=\"color: #800080\">created PR review i…</span><span style=\"color: #800080; font-style: italic\">nedbat/scriv</span>          \n",
       "  📪  <span style=\"color: #000080; font-weight: bold\">yakirgot </span><span style=\"color: #000080\">closed PR #1 on </span><span style=\"color: #000080; font-style: italic\">yakirgot/s…</span><span style=\"color: #000080\">\"chore(dep…</span>    💌  <span style=\"color: #800080; font-weight: bold\">nedbat </span><span style=\"color: #800080\">created PR review i…</span><span style=\"color: #800080; font-style: italic\">nedbat/scriv</span>          \n",
       "  📪  <span style=\"color: #000080; font-weight: bold\">mergify[bot…</span><span style=\"color: #000080\">closed PR #4 on </span><span style=\"color: #000080; font-style: italic\">spbu-codi…</span><span style=\"color: #000080\">\"Исправл…</span>    💌  <span style=\"color: #800080; font-weight: bold\">mennovanemm…</span><span style=\"color: #800080\">created PR review…</span><span style=\"color: #800080; font-style: italic\">Softimistic/Proj…</span>  \n",
       "  🔁  <span style=\"color: #000080; font-weight: bold\">stringcode8…</span><span style=\"color: #000080\">reopened PR #2051…</span><span style=\"color: #000080; font-style: italic\">MetaMask…</span><span style=\"color: #000080\">\"[1984]…</span>    💌  <span style=\"color: #800080; font-weight: bold\">i-stam </span><span style=\"color: #800080\">created PR review i…</span><span style=\"color: #800080; font-style: italic\">Synthetixio/synthet…</span>  \n",
       "  📪  <span style=\"color: #000080; font-weight: bold\">dependabot[…</span><span style=\"color: #000080\">closed PR #3 on </span><span style=\"color: #000080; font-style: italic\">herzliya-…</span><span style=\"color: #000080\">\"Bump in…</span>    💌  <span style=\"color: #800080; font-weight: bold\">gmolinga </span><span style=\"color: #800080\">created PR review …</span><span style=\"color: #800080; font-style: italic\">UB-ES-2020-A/Grup-…</span>  \n",
       " ─────────────────────────────────────────────────────  ───────────────────────────────────────────────────── \n",
       "</pre>\n"
      ],
      "text/plain": [
       "<rich.table.Table at 0x7ff88123ceb0>"
      ]
     },
     "execution_count": null,
     "metadata": {},
     "output_type": "execute_result"
    }
   ],
   "source": [
    "for k,v in ps.items(): v.extend(evts.filter(risinstance(k)))\n",
    "isc,iss,prs,prrs = ps.values()\n",
    "grid([[isc,iss],[prs,prrs]], width=110)"
   ]
  },
  {
   "cell_type": "markdown",
   "metadata": {},
   "source": [
    "## Export -"
   ]
  },
  {
   "cell_type": "code",
   "execution_count": null,
   "metadata": {},
   "outputs": [
    {
     "name": "stdout",
     "output_type": "stream",
     "text": [
      "Converted 00_ghtop.ipynb.\n",
      "Converted Prototype_Rich.ipynb.\n",
      "Converted index.ipynb.\n",
      "Converted richext.ipynb.\n"
     ]
    }
   ],
   "source": [
    "#hide\n",
    "from nbdev.export import notebook2script\n",
    "notebook2script()"
   ]
  },
  {
   "cell_type": "code",
   "execution_count": null,
   "metadata": {},
   "outputs": [],
   "source": []
  }
 ],
 "metadata": {
  "kernelspec": {
   "display_name": "Python 3",
   "language": "python",
   "name": "python3"
  }
 },
 "nbformat": 4,
 "nbformat_minor": 4
}
