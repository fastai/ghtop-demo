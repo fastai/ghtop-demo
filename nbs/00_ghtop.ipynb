{
 "cells": [
  {
   "cell_type": "code",
   "execution_count": 1,
   "metadata": {},
   "outputs": [],
   "source": [
    "#default_exp ghtop"
   ]
  },
  {
   "cell_type": "markdown",
   "metadata": {},
   "source": [
    "# ghtop API\n",
    "\n",
    "> API details"
   ]
  },
  {
   "cell_type": "code",
   "execution_count": 2,
   "metadata": {},
   "outputs": [],
   "source": [
    "#export\n",
    "import sys, signal, shutil, os, json, emoji, enlighten\n",
    "from dashing import *\n",
    "from collections import defaultdict\n",
    "from warnings import warn\n",
    "from itertools import islice\n",
    "\n",
    "from fastcore.utils import *\n",
    "from fastcore.foundation import *\n",
    "from fastcore.script import *\n",
    "from ghapi.all import *\n",
    "from ghtop.richext import *\n",
    "from ghtop.all_rich import (Console, Color, FixedPanel, box, Segments, Live,\n",
    "                            grid, ConsoleOptions, Progress, BarColumn, Spinner)"
   ]
  },
  {
   "cell_type": "code",
   "execution_count": 3,
   "metadata": {},
   "outputs": [],
   "source": [
    "evts = load_sample_events()"
   ]
  },
  {
   "cell_type": "code",
   "execution_count": 4,
   "metadata": {},
   "outputs": [],
   "source": [
    "#export\n",
    "def get_title(nm): return camel2words(remove_suffix(nm,'Event'))\n",
    "ETYPES = PushEvent,PullRequestEvent,IssueCommentEvent, ReleaseEvent\n",
    "\n",
    "def get_sparklines(types=ETYPES):\n",
    "    ecolors = {t.__name__: ifnone(colors.get(t.__name__, None), 'default') for t in types}\n",
    "    return SparkGrp([SparkCfg(str(v), get_title(k)) for k,v in ecolors.items()] + [SparkCfg('magenta', 'All Events')],\n",
    "                    span=5,\n",
    "                    spn_lbl='/5s')"
   ]
  },
  {
   "cell_type": "code",
   "execution_count": 5,
   "metadata": {},
   "outputs": [],
   "source": [
    "#export\n",
    "term = Terminal()\n",
    "\n",
    "tdim = L(os.popen('stty size', 'r').read().split())\n",
    "if not tdim: theight,twidth = 15,15\n",
    "else: theight,twidth = tdim.map(lambda x: max(int(x)-5, 15))"
   ]
  },
  {
   "cell_type": "code",
   "execution_count": 6,
   "metadata": {},
   "outputs": [],
   "source": [
    "#export\n",
    "def github_auth_device(wb='', n_polls=9999):\n",
    "    \"Authenticate with GitHub, polling up to `n_polls` times to wait for completion\"\n",
    "    auth = GhDeviceAuth()\n",
    "    print(f\"First copy your one-time code: {term.yellow}{auth.user_code}{term.normal}\")\n",
    "    print(f\"Then visit {auth.verification_uri} in your browser, and paste the code when prompted.\")\n",
    "    if not wb: wb = input(\"Shall we try to open the link for you? [y/n] \")\n",
    "    if wb[0].lower()=='y': auth.open_browser()\n",
    "\n",
    "    print(\"Waiting for authorization...\", end='')\n",
    "    token = auth.wait(lambda: print('.', end=''), n_polls=n_polls)\n",
    "    if not token: return print('Authentication not complete!')\n",
    "    print(\"Authenticated with GitHub\")\n",
    "    return token"
   ]
  },
  {
   "cell_type": "markdown",
   "metadata": {},
   "source": [
    "When we run this we'll be shown a URL to visit and a code to enter in order to authenticate. Normally we'll be prompted to open a browser, and the function will wait for authentication to complete -- for demonstrating here we'll skip both of these steps:"
   ]
  },
  {
   "cell_type": "code",
   "execution_count": 7,
   "metadata": {},
   "outputs": [
    {
     "name": "stdout",
     "output_type": "stream",
     "text": [
      "First copy your one-time code: \u001b[33m36BE-1EC5\u001b[m\n",
      "Then visit https://github.com/login/device in your browser, and paste the code when prompted.\n",
      "Waiting for authorization...Authentication not complete!\n"
     ]
    }
   ],
   "source": [
    "github_auth_device('n',n_polls=0)"
   ]
  },
  {
   "cell_type": "code",
   "execution_count": 8,
   "metadata": {},
   "outputs": [],
   "source": [
    "#export\n",
    "def _exit(msg):\n",
    "    print(msg, file=sys.stderr)\n",
    "    sys.exit()"
   ]
  },
  {
   "cell_type": "code",
   "execution_count": 9,
   "metadata": {},
   "outputs": [],
   "source": [
    "#exports\n",
    "def limit_cb(rem,quota):\n",
    "    \"Callback to warn user when close to using up hourly quota\"\n",
    "    w='WARNING '*7\n",
    "    if rem < 1000: print(f\"{w}\\nRemaining calls: {rem} out of {quota}\\n{w}\", file=sys.stderr)"
   ]
  },
  {
   "cell_type": "markdown",
   "metadata": {},
   "source": [
    "When creating `GhApi` we can pass a callback which will be called after each API operation. In this case, we use it to warn the user when their quota is getting low."
   ]
  },
  {
   "cell_type": "code",
   "execution_count": 10,
   "metadata": {},
   "outputs": [],
   "source": [
    "#export\n",
    "Events = dict(\n",
    "    IssuesEvent_closed=('⭐', 'closed', noop),\n",
    "    IssuesEvent_opened=('📫', 'opened', noop),\n",
    "    IssueCommentEvent=('💬', 'commented on', term.white),\n",
    "    PullRequestEvent_opened=('✨', 'opened a pull request', term.yellow),\n",
    "    PullRequestEvent_closed=('✔', 'closed a pull request', term.green),\n",
    ")"
   ]
  },
  {
   "cell_type": "code",
   "execution_count": 11,
   "metadata": {},
   "outputs": [],
   "source": [
    "#export\n",
    "def _to_log(e):\n",
    "    login,repo,pay = e.actor.login,e.repo.name,e.payload\n",
    "    typ = e.type + (f'_{pay.action}' if e.type in ('PullRequestEvent','IssuesEvent') else '')\n",
    "    emoji,msg,color = Events.get(typ, [0]*3)\n",
    "    if emoji:\n",
    "        xtra = '' if e.type == \"PullRequestEvent\" else f' issue # {pay.issue.number}'\n",
    "        d = try_attrs(pay, \"pull_request\", \"issue\")\n",
    "        return color(f'{emoji} {login} {msg}{xtra} on repo {repo[:20]} (\"{d.title[:50]}...\")')\n",
    "    elif e.type == \"ReleaseEvent\": return f'🚀 {login} released {e.payload.release.tag_name} of {repo}'"
   ]
  },
  {
   "cell_type": "code",
   "execution_count": 12,
   "metadata": {},
   "outputs": [],
   "source": [
    "#export\n",
    "def print_event(e, counter):\n",
    "    res = _to_log(e)\n",
    "    if res: print(res)\n",
    "    elif counter and e.type == \"PushEvent\": [counter.update() for c in e.payload.commits]\n",
    "    elif e.type == \"SecurityAdvisoryEvent\": print(term.blink(\"SECURITY ADVISORY\"))"
   ]
  },
  {
   "cell_type": "markdown",
   "metadata": {},
   "source": [
    "We can pretty print a selection of event types using `print_event`, e.g:"
   ]
  },
  {
   "cell_type": "code",
   "execution_count": 13,
   "metadata": {},
   "outputs": [
    {
     "name": "stdout",
     "output_type": "stream",
     "text": [
      "\u001b[32m✔ Didier-D-crypto closed a pull request on repo Didier-D-crypto/Empl (\"Bump ini from 1.3.5 to 1.3.8...\")\u001b[m\n",
      "\u001b[37m💬 Holzhaus commented on issue # 168 on repo mixxxdj/website (\"Site of mixxx is out...\")\u001b[m\n",
      "\u001b[37m💬 reaperrr commented on issue # 18828 on repo OpenRA/OpenRA (\"InvalidDataException: nuyell1.aud is not a valid s...\")\u001b[m\n",
      "\u001b[33m✨ fantommohammed opened a pull request on repo fantommohammed/Mu-lt (\"Begin...\")\u001b[m\n",
      "\u001b[37m💬 0pdd commented on issue # 2 on repo proofit404/cruftbot (\"Initialize Django project....\")\u001b[m\n",
      "\u001b[33m✨ dependabot[bot] opened a pull request on repo Didier-D-crypto/Empl (\"Bump dot-prop from 4.2.0 to 4.2.1...\")\u001b[m\n",
      "📫 oulasvirta opened issue # 11 on repo oulasvirta/write-git (\"Title...\")\n",
      "\u001b[32m✔ pull[bot] closed a pull request on repo sgrayban/github-read (\"[pull] master from anuraghazra:master...\")\u001b[m\n",
      "\u001b[33m✨ dseo3 opened a pull request on repo dseo3/GroupProject_T (\"Populating data inside of bookmark...\")\u001b[m\n",
      "\u001b[33m✨ snyk-bot opened a pull request on repo BlueCC8/iot-simulato (\"[Snyk] Security upgrade mongoose from 5.4.11 to 5....\")\u001b[m\n",
      "\u001b[32m✔ realpaliy closed a pull request on repo realpaliy/Messenger (\"Update SharedMediaVC.swift...\")\u001b[m\n",
      "\u001b[33m✨ schancel opened a pull request on repo cashweb/stamp (\"Ensure capacitor adds toolbar space...\")\u001b[m\n",
      "\u001b[37m💬 zjklee commented on issue # 407 on repo Handlebars-Net/Handl (\"Template compilation seems slower with 2.0...\")\u001b[m\n",
      "📫 ThomVivet opened issue # 452 on repo sahib/rmlint (\"Documentation: clarification about the -C / --xatt...\")\n",
      "\u001b[33m✨ GeertvanHorrik opened a pull request on repo WildGums/Orchestra (\"GitHubSync update...\")\u001b[m\n",
      "\u001b[37m💬 bodhish commented on issue # 9 on repo jcsherin/package-tod (\"Todo CLI in Java...\")\u001b[m\n"
     ]
    }
   ],
   "source": [
    "for e in evts[:100]: print_event(e,None)"
   ]
  },
  {
   "cell_type": "code",
   "execution_count": 14,
   "metadata": {},
   "outputs": [],
   "source": [
    "#export\n",
    "def pct_comp(api): return int(((5000-int(api.limit_rem)) / 5000) * 100)"
   ]
  },
  {
   "cell_type": "code",
   "execution_count": 15,
   "metadata": {},
   "outputs": [],
   "source": [
    "#export\n",
    "def tail_events(evt, api):\n",
    "    \"Print events from `fetch_events` along with a counter of push events\"\n",
    "    p = FixedPanel(theight, box=box.HORIZONTALS, title='ghtop')\n",
    "    s = get_sparklines()\n",
    "    g = grid([[s], [p]])\n",
    "    with Live(g):\n",
    "        for e in evt:\n",
    "            k = get_title(e.type)\n",
    "            if k in s.sparklines: s.update({'All Events':1, k: 1}, pct_complete=pct_comp(api))\n",
    "            else: s.update({'All Events':1}, pct_complete=pct_comp(api))\n",
    "            p.append(e)\n",
    "            g = grid([[s], [p]])"
   ]
  },
  {
   "cell_type": "code",
   "execution_count": 16,
   "metadata": {},
   "outputs": [],
   "source": [
    "#export\n",
    "def _pr_row(*its): print(f\"{its[0]: <30} {its[1]: <6} {its[2]: <5} {its[3]: <6} {its[4]: <7}\")\n",
    "def watch_users(evts):\n",
    "    \"Print a table of the users with the most events\"\n",
    "    users,users_events = defaultdict(int),defaultdict(lambda: defaultdict(int))\n",
    "    while True:\n",
    "        for x in islice(evts, 10):\n",
    "            users[x.actor.login] += 1\n",
    "            users_events[x.actor.login][x.type] += 1\n",
    "\n",
    "        print(term.clear())\n",
    "        _pr_row(\"User\", \"Events\", \"PRs\", \"Issues\", \"Pushes\")\n",
    "        sorted_users = sorted(users.items(), key=lambda o: (o[1],o[0]), reverse=True)\n",
    "        for u in sorted_users[:20]:\n",
    "            _pr_row(*u, *itemgetter('PullRequestEvent','IssuesEvent','PushEvent')(users_events[u[0]]))"
   ]
  },
  {
   "cell_type": "code",
   "execution_count": 17,
   "metadata": {},
   "outputs": [],
   "source": [
    "#export\n",
    "def _push_to_log(e): return f\"{e.actor.login} pushed {len(e.payload.commits)} commits to repo {e.repo.name}\"\n",
    "def _logwin(title,color): return Log(title=title,border_color=2,color=color)\n",
    "\n",
    "# def quad_logs(evts, api):\n",
    "#     \"Print 4 panels, showing most recent issues, commits, PRs, and releases\"\n",
    "#     print(len(evts))\n",
    "#     term.enter_fullscreen()\n",
    "#     ui = HSplit(VSplit(_logwin('Issues',        color=7), _logwin('Commits' , color=3)),\n",
    "#                 VSplit(_logwin('Pull Requests', color=4), _logwin('Releases', color=5)))\n",
    "\n",
    "#     issues,commits,prs,releases = all_items = ui.items[0].items+ui.items[1].items\n",
    "#     for o in all_items: o.append(\" \")\n",
    "\n",
    "#     d = dict(PushEvent=commits, IssuesEvent=issues, IssueCommentEvent=issues, PullRequestEvent=prs, ReleaseEvent=releases)\n",
    "#     while True:\n",
    "#         for x in islice(evts, 10):\n",
    "#             f = [_to_log,_push_to_log][x.type == 'PushEvent']\n",
    "#             if x.type in d: d[x.type].append(f(x)[:95])\n",
    "#         ui.display()"
   ]
  },
  {
   "cell_type": "code",
   "execution_count": 18,
   "metadata": {},
   "outputs": [],
   "source": [
    "    ps = {o:FixedPanel(height=theight//2,\n",
    "                       width=twidth//2, \n",
    "                       box=box.HORIZONTALS, \n",
    "                       title=camel2words(remove_suffix(o.__name__,'Event'))) for o in ETYPES}"
   ]
  },
  {
   "cell_type": "code",
   "execution_count": 19,
   "metadata": {},
   "outputs": [],
   "source": [
    "#export\n",
    "def _panelDict2Grid(pd):\n",
    "    ispush,ispr,isiss,isrel = pd.values()\n",
    "    return grid([[ispush,ispr],[isiss,isrel]], width=twidth)\n",
    "\n",
    "\n",
    "def quad_logs(evts, api):\n",
    "    \"Print 4 panels, showing most recent issues, commits, PRs, and releases\"\n",
    "    pd = {o:FixedPanel(height=(theight//2)-2,\n",
    "                       width=(twidth//2)-2, \n",
    "                       box=box.HORIZONTALS, \n",
    "                       title=camel2words(remove_suffix(o.__name__,'Event'))) for o in ETYPES}\n",
    "    p = _panelDict2Grid(pd)\n",
    "    s = get_sparklines()\n",
    "    g = grid([[s], [p]])\n",
    "    with Live(g):\n",
    "        for e in evts:\n",
    "            k = get_title(e.type)\n",
    "            if k in s.sparklines: s.update({'All Events':1, k: 1}, pct_complete=pct_comp(api))\n",
    "            else: s.update({'All Events':1}, pct_complete=pct_comp(api))\n",
    "            typ = type(e)\n",
    "            if typ in pd: pd[typ].append(e)\n",
    "            p = _panelDict2Grid(pd)\n",
    "            g = grid([[s], [p]])"
   ]
  },
  {
   "cell_type": "code",
   "execution_count": 20,
   "metadata": {},
   "outputs": [],
   "source": [
    "#export\n",
    "def simple(evts):\n",
    "    for ev in evts: print(f\"{ev.actor.login} {ev.type} {ev.repo.name}\")"
   ]
  },
  {
   "cell_type": "code",
   "execution_count": 21,
   "metadata": {},
   "outputs": [],
   "source": [
    "#export\n",
    "def _get_token():\n",
    "    path = Path.home()/\".ghtop_token\"\n",
    "    if path.is_file():\n",
    "        try: return path.read_text().strip()\n",
    "        except: _exit(\"Error reading token\")\n",
    "    else: token = github_auth_device()\n",
    "    path.write_text(token)\n",
    "    return token"
   ]
  },
  {
   "cell_type": "code",
   "execution_count": 22,
   "metadata": {},
   "outputs": [],
   "source": [
    "#export\n",
    "def _signal_handler(sig, frame):\n",
    "    if sig != signal.SIGINT: return\n",
    "    print(term.exit_fullscreen(),term.clear(),term.normal)\n",
    "    sys.exit(0)\n",
    "\n",
    "_funcs = dict(tail=tail_events, quad=quad_logs, users=watch_users, simple=simple)\n",
    "_filts = str_enum('_filts', 'user', 'repo', 'org')\n",
    "_OpModes = str_enum('_OpModes', *_funcs)\n",
    "\n",
    "@call_parse\n",
    "def main(mode:         Param(\"Operation mode to run\", _OpModes),\n",
    "         include_bots: Param(\"Include bots (there's a lot of them!)\", store_true)=False,\n",
    "         types:        Param(\"Comma-separated types of event to include (e.g PushEvent)\", str)='',\n",
    "         filt:         Param(\"Filtering method\", _filts)=None,\n",
    "         filtval:      Param(\"Value to filter by (for `repo` use format `owner/repo`)\", str)=None):\n",
    "    signal.signal(signal.SIGINT, _signal_handler)\n",
    "    types = types.split(',') if types else None\n",
    "    if filt and not filtval: _exit(\"Must pass `filter_value` if passing `filter_type`\")\n",
    "    if filtval and not filt: _exit(\"Must pass `filter_type` if passing `filter_value`\")\n",
    "    kwargs = {filt:filtval} if filt else {}\n",
    "    api = GhApi(limit_cb=limit_cb, token=_get_token())\n",
    "    evts = api.fetch_events(types=types, incl_bot=include_bots, **kwargs)\n",
    "    _funcs[mode](evts, api)"
   ]
  },
  {
   "cell_type": "markdown",
   "metadata": {},
   "source": [
    "## Export -"
   ]
  },
  {
   "cell_type": "code",
   "execution_count": 23,
   "metadata": {},
   "outputs": [
    {
     "name": "stdout",
     "output_type": "stream",
     "text": [
      "Converted 00_ghtop.ipynb.\n",
      "Converted Prototype_Rich.ipynb.\n",
      "Converted index.ipynb.\n",
      "Converted richext.ipynb.\n"
     ]
    }
   ],
   "source": [
    "#hide\n",
    "from nbdev.export import notebook2script\n",
    "notebook2script()"
   ]
  },
  {
   "cell_type": "code",
   "execution_count": 24,
   "metadata": {},
   "outputs": [],
   "source": [
    "api=GhApi()\n",
    "revts = api.fetch_events()"
   ]
  },
  {
   "cell_type": "code",
   "execution_count": 25,
   "metadata": {},
   "outputs": [],
   "source": [
    "# from collections import Counter\n",
    "\n",
    "# lst = []\n",
    "# counter = 0\n",
    "# for x in revts:\n",
    "#     lst.append(x)\n",
    "#     counter+=1\n",
    "#     if counter > 500: break\n",
    "        \n",
    "# Counter([x.type for x in lst]).most_common()"
   ]
  },
  {
   "cell_type": "code",
   "execution_count": null,
   "metadata": {},
   "outputs": [],
   "source": []
  }
 ],
 "metadata": {
  "kernelspec": {
   "display_name": "Python 3",
   "language": "python",
   "name": "python3"
  },
  "language_info": {
   "codemirror_mode": {
    "name": "ipython",
    "version": 3
   },
   "file_extension": ".py",
   "mimetype": "text/x-python",
   "name": "python",
   "nbconvert_exporter": "python",
   "pygments_lexer": "ipython3",
   "version": "3.8.3"
  }
 },
 "nbformat": 4,
 "nbformat_minor": 4
}
