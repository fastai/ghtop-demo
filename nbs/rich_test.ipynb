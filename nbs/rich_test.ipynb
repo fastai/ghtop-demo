{
 "cells": [
  {
   "cell_type": "markdown",
   "metadata": {},
   "source": [
    "# Rich Test"
   ]
  },
  {
   "cell_type": "code",
   "execution_count": 1,
   "metadata": {},
   "outputs": [],
   "source": [
    "from ghtop.all_rich import pr,Panel,RenderGroup,Console,ConsoleOptions,Table,Live,Columns,Text,Style,ANSI_COLOR_NAMES,box\n",
    "from ghtop.all_rich import Segment,RenderResult,Spinner,SpinnerColumn,BarColumn,Task,Progress,ProgressBar,Padding\n",
    "\n",
    "\n",
    "import time,random\n",
    "from collections import deque, OrderedDict\n",
    "from typing import List, Dict\n",
    "from fastcore.all import *\n",
    "from ghapi.event import *\n",
    "from collections import namedtuple"
   ]
  },
  {
   "cell_type": "code",
   "execution_count": 2,
   "metadata": {},
   "outputs": [],
   "source": [
    "console = Console()"
   ]
  },
  {
   "cell_type": "code",
   "execution_count": 3,
   "metadata": {},
   "outputs": [],
   "source": [
    "@delegates(Style)\n",
    "def text(s, maxlen=None, **kwargs):\n",
    "    \"Create a styled `Text` object\"\n",
    "    if maxlen: s = truncstr(s, maxlen=maxlen)\n",
    "    return Text(s, style=Style(**kwargs))\n",
    "\n",
    "@delegates(Style)\n",
    "def segment(s, maxlen=None, space=' ', **kwargs):\n",
    "    \"Create a styled `Segment` object\"\n",
    "    if maxlen: s = truncstr(s, maxlen=maxlen, space=space)\n",
    "    return Segment(s, style=Style(**kwargs))\n",
    "\n",
    "class Segments(list):\n",
    "    def __init__(self, options): self.w = options.max_width\n",
    "    \n",
    "    @property\n",
    "    def chars(self): return sum(o.cell_length for o in self)\n",
    "    def txtlen(self, pct): return min((self.w-self.chars)*pct, 999)\n",
    "    \n",
    "    @delegates(segment)\n",
    "    def add(self, x, maxlen=None, pct=None, **kwargs):\n",
    "        if pct: maxlen = math.ceil(self.txtlen(pct))\n",
    "        self.append(segment(x, maxlen=maxlen, **kwargs))\n",
    "\n",
    "@delegates(Table)\n",
    "def _grid(box=None, padding=0, collapse_padding=True, pad_edge=False, expand=False, show_header=False, show_edge=False, **kwargs):\n",
    "    return Table(padding=padding, pad_edge=pad_edge, expand=expand, collapse_padding=collapse_padding,\n",
    "                 box=box, show_header=show_header, show_edge=show_edge, **kwargs)\n",
    "\n",
    "@delegates(_grid)\n",
    "def grid(items, expand=True, no_wrap=True, **kwargs):\n",
    "    g = _grid(expand=expand, **kwargs)\n",
    "    for c in items[0]: g.add_column(no_wrap=no_wrap, justify='center')\n",
    "    for i in items: g.add_row(*i)\n",
    "    return g\n",
    "\n",
    "Color = str_enum('Color', *ANSI_COLOR_NAMES)"
   ]
  },
  {
   "cell_type": "code",
   "execution_count": 4,
   "metadata": {},
   "outputs": [],
   "source": [
    "evts = load_sample_events()"
   ]
  },
  {
   "cell_type": "code",
   "execution_count": 5,
   "metadata": {},
   "outputs": [],
   "source": [
    "class Deque(deque):\n",
    "    def __rich__(self): return RenderGroup(*(filter(None, self)))"
   ]
  },
  {
   "cell_type": "code",
   "execution_count": 6,
   "metadata": {},
   "outputs": [],
   "source": [
    "@delegates()\n",
    "class FixedPanel(Panel, GetAttr):\n",
    "    _default='renderable'\n",
    "    def __init__(self, height, **kwargs):\n",
    "        super().__init__(Deque([' ']*height, maxlen=height), **kwargs)\n",
    "\n",
    "    @delegates(Style)\n",
    "    def add(self, s:str, **kwargs):\n",
    "        \"Add styled `s` to panel\"\n",
    "        self.append(text(s, **kwargs))"
   ]
  },
  {
   "cell_type": "code",
   "execution_count": 7,
   "metadata": {},
   "outputs": [],
   "source": [
    "exs = [first(evts, risinstance(o)) for o in described_evts]"
   ]
  },
  {
   "cell_type": "code",
   "execution_count": 8,
   "metadata": {},
   "outputs": [],
   "source": [
    "@patch\n",
    "def __rich_console__(self:GhEvent, console, options):\n",
    "    res = Segments(options)\n",
    "    kw = {'color': colors[self.type]}\n",
    "    res.add(self.emoji)\n",
    "    res.add(self.actor.login, pct=0.25, bold=True, **kw)\n",
    "    res.add(self.description, pct=0.5, **kw)\n",
    "    res.add(self.repo.name, pct=0.5 if self.text else 1, space = ': ' if self.text else '', italic=True, **kw)\n",
    "    if self.text: \n",
    "        clean_text = self.text.replace('\\n', ' ').replace('\\r', ' ')\n",
    "        res.add (f'\"{clean_text}\"', pct=1, space='', **kw)\n",
    "    res.add('\\n')\n",
    "    return res"
   ]
  },
  {
   "cell_type": "code",
   "execution_count": 9,
   "metadata": {},
   "outputs": [],
   "source": [
    "colors = dict(\n",
    "    PushEvent=None, CreateEvent=Color.red, IssueCommentEvent=Color.green, WatchEvent=Color.yellow,\n",
    "    PullRequestEvent=Color.blue, PullRequestReviewEvent=Color.magenta, PullRequestReviewCommentEvent=Color.cyan,\n",
    "    DeleteEvent=Color.bright_red, ForkEvent=Color.bright_green, IssuesEvent=Color.bright_magenta,\n",
    "    ReleaseEvent=Color.bright_blue, MemberEvent=Color.bright_yellow, CommitCommentEvent=Color.bright_cyan,\n",
    "    GollumEvent=Color.white, PublicEvent=Color.turquoise4)\n",
    "\n",
    "colors2 = dict(\n",
    "    PushEvent=None, CreateEvent=Color.dodger_blue1, IssueCommentEvent=Color.tan, WatchEvent=Color.steel_blue1,\n",
    "    PullRequestEvent=Color.deep_pink1, PullRequestReviewEvent=Color.slate_blue1, PullRequestReviewCommentEvent=Color.tan,\n",
    "    DeleteEvent=Color.light_pink1, ForkEvent=Color.orange1, IssuesEvent=Color.medium_violet_red,\n",
    "    ReleaseEvent=Color.green1, MemberEvent=Color.orchid1, CommitCommentEvent=Color.tan,\n",
    "    GollumEvent=Color.sea_green1, PublicEvent=Color.magenta2)"
   ]
  },
  {
   "cell_type": "code",
   "execution_count": 10,
   "metadata": {},
   "outputs": [
    {
     "data": {
      "text/html": [
       "<pre style=\"white-space:pre;overflow-x:auto;line-height:normal;font-family:Menlo,'DejaVu Sans Mono',consolas,'Courier New',monospace\"> ────────────────────────────────────────── ghtop ────────────────────────────────────────── \n",
       "  ⭐<span style=\"font-weight: bold\">diddledan </span>pushed 1 commits to \"master\" in <span style=\"font-style: italic\">diddlesnaps/openttd</span>                            \n",
       "  ⭐<span style=\"font-weight: bold\">veigarbot </span>pushed 1 commits to \"main\" in <span style=\"font-style: italic\">veigarbot/veigarbot.github.io</span>                    \n",
       "  ⭐<span style=\"font-weight: bold\">FromDarkHell </span>pushed 1 commits to \"main\" in <span style=\"font-style: italic\">FromDarkHell/Simulstream</span>                      \n",
       "  🏭<span style=\"color: #800000; font-weight: bold\">pg45 </span><span style=\"color: #800000\">created branch \"add-headers\" in </span><span style=\"color: #800000; font-style: italic\">pg45/markdown-portfolio</span>                             \n",
       "  💬<span style=\"color: #008000; font-weight: bold\">ljwagerfield </span><span style=\"color: #008000\">created comment on issue #743 in </span><span style=\"color: #008000; font-style: italic\">lukeautry/tsoa: </span><span style=\"color: #008000\">\"@rudfoss did you find a…</span>  \n",
       "  ⭐<span style=\"font-weight: bold\">KwameTaylor </span>pushed 1 commits to \"main\" in <span style=\"font-style: italic\">SpotiScryers/SpotiScry</span>                         \n",
       "  👀<span style=\"color: #808000; font-weight: bold\">okeeffdp </span><span style=\"color: #808000\">started watching </span><span style=\"color: #808000; font-style: italic\">alshedivat/al-folio</span>                                            \n",
       "  📬<span style=\"color: #000080; font-weight: bold\">JlchavezG </span><span style=\"color: #000080\">opened PR #43 on </span><span style=\"color: #000080; font-style: italic\">JlchavezG/Psbg: </span><span style=\"color: #000080\">\"Se agregan notificaciones\"</span>                   \n",
       "  👀<span style=\"color: #808000; font-weight: bold\">Lit3r4lly </span><span style=\"color: #808000\">started watching </span><span style=\"color: #808000; font-style: italic\">0xgalz/Virtuailor</span>                                             \n",
       "  🏭<span style=\"color: #800000; font-weight: bold\">Nabil1907 </span><span style=\"color: #800000\">created repository in </span><span style=\"color: #800000; font-style: italic\">Nabil1907/Node-js-Projects</span>                               \n",
       "  ⭐<span style=\"font-weight: bold\">NotWhoYoureThinkingOf </span>pushed 1 commits to \"main\" in <span style=\"font-style: italic\">NotWhoYoureThinkingOf/fb-clone</span>       \n",
       "  🏭<span style=\"color: #800000; font-weight: bold\">thoriqkemal </span><span style=\"color: #800000\">created repository in </span><span style=\"color: #800000; font-style: italic\">thoriqkemal/tig: </span><span style=\"color: #800000\">\"tig tig\"</span>                             \n",
       "  ⭐<span style=\"font-weight: bold\">WrathfulSpatula </span>pushed 1 commits to \"master\" in <span style=\"font-style: italic\">WrathfulSpatula/OpenRelativity</span>           \n",
       "  ⭐<span style=\"font-weight: bold\">alinapopaqb </span>pushed 1 commits to \"master\" in <span style=\"font-style: italic\">alinkamalvinka/cdond-c3-projectstarter</span>       \n",
       "  ⭐<span style=\"font-weight: bold\">LombiqBot </span>pushed 0 commits to \"MatteoPiovanelli-…<span style=\"font-style: italic\">Lombiq/Orchard</span>                          \n",
       " ─────────────────────────────────────────────────────────────────────────────────────────── \n",
       "</pre>\n"
      ],
      "text/plain": [
       "<__main__.FixedPanel at 0x7fe1c8817d60>"
      ]
     },
     "execution_count": 10,
     "metadata": {},
     "output_type": "execute_result"
    }
   ],
   "source": [
    "p = FixedPanel(15, box=box.HORIZONTALS, title='ghtop')\n",
    "for e in evts[:163]: p.append(e)\n",
    "p"
   ]
  },
  {
   "cell_type": "code",
   "execution_count": 11,
   "metadata": {},
   "outputs": [
    {
     "data": {
      "text/html": [
       "<pre style=\"white-space:pre;overflow-x:auto;line-height:normal;font-family:Menlo,'DejaVu Sans Mono',consolas,'Courier New',monospace\"> ─────────────────── ghtop ───────────────────  ────────────────── ghtop ─────────────────── \n",
       "  ⭐<span style=\"font-weight: bold\">BeckhamL </span>pushed 1 commit…<span style=\"font-style: italic\">BeckhamL/leetco…</span>    ⭐<span style=\"font-weight: bold\">BeckhamL </span>pushed 1 commit…<span style=\"font-style: italic\">BeckhamL/leetc…</span>  \n",
       "  🏭<span style=\"color: #800000; font-weight: bold\">admmonitor…</span><span style=\"color: #800000\">created branch…</span><span style=\"color: #800000; font-style: italic\">admmoni…</span><span style=\"color: #800000\">\"This …</span>    🏭<span style=\"color: #800000; font-weight: bold\">admmonito…</span><span style=\"color: #800000\">created branch…</span><span style=\"color: #800000; font-style: italic\">admmoni…</span><span style=\"color: #800000\">\"This …</span>  \n",
       "  💬<span style=\"color: #008000; font-weight: bold\">Holzhaus </span><span style=\"color: #008000\">created comment…</span><span style=\"color: #008000; font-style: italic\">mixxxdj…</span><span style=\"color: #008000\">\"I reop…</span>    💬<span style=\"color: #008000; font-weight: bold\">Holzhaus </span><span style=\"color: #008000\">created comment…</span><span style=\"color: #008000; font-style: italic\">mixxxdj…</span><span style=\"color: #008000\">\"I reo…</span>  \n",
       "  👀<span style=\"color: #808000; font-weight: bold\">mikalackis </span><span style=\"color: #808000\">started watchi…</span><span style=\"color: #808000; font-style: italic\">microg/GmsCore</span>     👀<span style=\"color: #808000; font-weight: bold\">mikalacki…</span><span style=\"color: #808000\">started watchi…</span><span style=\"color: #808000; font-style: italic\">microg/GmsCore</span>   \n",
       "  📪<span style=\"color: #000080; font-weight: bold\">Didier-D-c…</span><span style=\"color: #000080\">closed PR #3 o…</span><span style=\"color: #000080; font-style: italic\">Didier-…</span><span style=\"color: #000080\">\"Bump …</span>    📪<span style=\"color: #000080; font-weight: bold\">Didier-D-…</span><span style=\"color: #000080\">closed PR #3 o…</span><span style=\"color: #000080; font-style: italic\">Didier-…</span><span style=\"color: #000080\">\"Bump …</span>  \n",
       "  💌<span style=\"color: #800080; font-weight: bold\">kadirselcu…</span><span style=\"color: #800080\">created PR rev…</span><span style=\"color: #800080; font-style: italic\">turkdevops/node</span>    💌<span style=\"color: #800080; font-weight: bold\">kadirselc…</span><span style=\"color: #800080\">created PR rev…</span><span style=\"color: #800080; font-style: italic\">turkdevops/node</span>  \n",
       "  🗨<span style=\"color: #008080; font-weight: bold\">mobinmob </span><span style=\"color: #008080\">created review c…</span><span style=\"color: #008080; font-style: italic\">void-li…</span><span style=\"color: #008080\">\"Οκ 👍\"</span>     🗨<span style=\"color: #008080; font-weight: bold\">mobinmob </span><span style=\"color: #008080\">created review …</span><span style=\"color: #008080; font-style: italic\">void-li…</span><span style=\"color: #008080\">\"Οκ 👍\"</span>   \n",
       "  ✂<span style=\"color: #ff0000; font-weight: bold\">heehee3 </span><span style=\"color: #ff0000\">deleted branch \"…</span><span style=\"color: #ff0000; font-style: italic\">heehee3/Proyecto…</span>    ✂<span style=\"color: #ff0000; font-weight: bold\">heehee3 </span><span style=\"color: #ff0000\">deleted branch \"…</span><span style=\"color: #ff0000; font-style: italic\">heehee3/Proyect…</span>  \n",
       "  🍽<span style=\"color: #00ff00; font-weight: bold\">Tubbz-alt </span><span style=\"color: #00ff00\">forked </span><span style=\"color: #00ff00; font-style: italic\">fortran-lang…</span><span style=\"color: #00ff00\">\"Fortran we…</span>    🍽<span style=\"color: #00ff00; font-weight: bold\">Tubbz-alt </span><span style=\"color: #00ff00\">forked </span><span style=\"color: #00ff00; font-style: italic\">fortran-lan…</span><span style=\"color: #00ff00\">\"Fortran we…</span>  \n",
       "  🐛<span style=\"color: #ff00ff; font-weight: bold\">oulasvirta </span><span style=\"color: #ff00ff\">opened issue #…</span><span style=\"color: #ff00ff; font-style: italic\">oulasvi…</span><span style=\"color: #ff00ff\">\"Title\"</span>    🐛<span style=\"color: #ff00ff; font-weight: bold\">oulasvirt…</span><span style=\"color: #ff00ff\">opened issue #…</span><span style=\"color: #ff00ff; font-style: italic\">oulasvi…</span><span style=\"color: #ff00ff\">\"Title\"</span>  \n",
       "  🚀<span style=\"color: #0000ff; font-weight: bold\">github-act…</span><span style=\"color: #0000ff\">published rele…</span><span style=\"color: #0000ff; font-style: italic\">Anuken/Mindust…</span>    🚀<span style=\"color: #0000ff; font-weight: bold\">github-ac…</span><span style=\"color: #0000ff\">published rele…</span><span style=\"color: #0000ff; font-style: italic\">Anuken/Mindust…</span>  \n",
       "  💃<span style=\"color: #ffff00; font-weight: bold\">laurofilho…</span><span style=\"color: #ffff00\">added member b…</span><span style=\"color: #ffff00; font-style: italic\">laurofilho96/E…</span>    💃<span style=\"color: #ffff00; font-weight: bold\">laurofilh…</span><span style=\"color: #ffff00\">added member b…</span><span style=\"color: #ffff00; font-style: italic\">laurofilho96/E…</span>  \n",
       "  🎉<span style=\"color: #00ffff; font-weight: bold\">vercel[bot…</span><span style=\"color: #00ffff\">created commit…</span><span style=\"color: #00ffff; font-style: italic\">LCinder…</span><span style=\"color: #00ffff\">\"Succe…</span>    🎉<span style=\"color: #00ffff; font-weight: bold\">vercel[bo…</span><span style=\"color: #00ffff\">created commit…</span><span style=\"color: #00ffff; font-style: italic\">LCinder…</span><span style=\"color: #00ffff\">\"Succe…</span>  \n",
       "  📚<span style=\"color: #c0c0c0; font-weight: bold\">adrianggc </span><span style=\"color: #c0c0c0\">edited wiki pag…</span><span style=\"color: #c0c0c0; font-style: italic\">adrianggc/Die-…</span>    📚<span style=\"color: #c0c0c0; font-weight: bold\">adrianggc </span><span style=\"color: #c0c0c0\">edited wiki pa…</span><span style=\"color: #c0c0c0; font-style: italic\">adrianggc/Die-…</span>  \n",
       " ─────────────────────────────────────────────  ──────────────────────────────────────────── \n",
       "</pre>\n"
      ],
      "text/plain": [
       "<rich.table.Table at 0x7fe1c88174c0>"
      ]
     },
     "execution_count": 11,
     "metadata": {},
     "output_type": "execute_result"
    }
   ],
   "source": [
    "p = FixedPanel(15, box=box.HORIZONTALS, title='ghtop')\n",
    "for e in exs: p.append(e)\n",
    "grid([[p,p]])"
   ]
  },
  {
   "cell_type": "code",
   "execution_count": 12,
   "metadata": {},
   "outputs": [],
   "source": [
    "types = IssueCommentEvent,IssuesEvent,PullRequestEvent,PullRequestReviewEvent"
   ]
  },
  {
   "cell_type": "code",
   "execution_count": 13,
   "metadata": {},
   "outputs": [],
   "source": [
    "ps = {o:FixedPanel(15, box=box.HORIZONTALS, title=camel2words(remove_suffix(o.__name__,'Event'))) for o in types}"
   ]
  },
  {
   "cell_type": "code",
   "execution_count": 14,
   "metadata": {},
   "outputs": [
    {
     "data": {
      "text/html": [
       "<pre style=\"white-space:pre;overflow-x:auto;line-height:normal;font-family:Menlo,'DejaVu Sans Mono',consolas,'Courier New',monospace\"> ─────────────────── Issue Comment ───────────────────  ────────────────────── Issues ─────────────────────── \n",
       "  💬<span style=\"color: #008000; font-weight: bold\">sanskritbscs </span><span style=\"color: #008000\">created comment o…</span><span style=\"color: #008000; font-style: italic\">sanskrit…</span><span style=\"color: #008000\">\"fixed i…</span>    🐛<span style=\"color: #ff00ff; font-weight: bold\">github-learn…</span><span style=\"color: #ff00ff\">opened issue #1 o…</span><span style=\"color: #ff00ff; font-style: italic\">pg45/mar…</span><span style=\"color: #ff00ff\">\"Getting…</span>  \n",
       "  💬<span style=\"color: #008000; font-weight: bold\">github-learn…</span><span style=\"color: #008000\">created comment o…</span><span style=\"color: #008000; font-style: italic\">pfxsys/g…</span><span style=\"color: #008000\">\"## Step…</span>    🐛<span style=\"color: #ff00ff; font-weight: bold\">NillerMedDil…</span><span style=\"color: #ff00ff\">opened issue #3 o…</span><span style=\"color: #ff00ff; font-style: italic\">gigabit1…</span><span style=\"color: #ff00ff\">\"[Reques…</span>  \n",
       "  💬<span style=\"color: #008000; font-weight: bold\">moezzineb </span><span style=\"color: #008000\">created comment on …</span><span style=\"color: #008000; font-style: italic\">flutter/f…</span><span style=\"color: #008000\">\"Voila :…</span>    🐛<span style=\"color: #ff00ff; font-weight: bold\">lucasfarias3…</span><span style=\"color: #ff00ff\">opened issue #2 o…</span><span style=\"color: #ff00ff; font-style: italic\">lucasfar…</span><span style=\"color: #ff00ff\">\"Issue t…</span>  \n",
       "  💬<span style=\"color: #008000; font-weight: bold\">JustSlone </span><span style=\"color: #008000\">created comment on …</span><span style=\"color: #008000; font-style: italic\">microsoft…</span><span style=\"color: #008000\">\"So read…</span>    🐛<span style=\"color: #ff00ff; font-weight: bold\">jabolopes </span><span style=\"color: #ff00ff\">opened issue #44 on </span><span style=\"color: #ff00ff; font-style: italic\">lafriks/g…</span><span style=\"color: #ff00ff\">\"Possibl…</span>  \n",
       "  💬<span style=\"color: #008000; font-weight: bold\">codecov[bot] </span><span style=\"color: #008000\">created comment o…</span><span style=\"color: #008000; font-style: italic\">open-mml…</span><span style=\"color: #008000\">\"# [Code…</span>    🐛<span style=\"color: #ff00ff; font-weight: bold\">aisaioop </span><span style=\"color: #ff00ff\">opened issue #1598 …</span><span style=\"color: #ff00ff; font-style: italic\">aisaioop/…</span><span style=\"color: #ff00ff\">\"北京通州 </span>  \n",
       "  💬<span style=\"color: #008000; font-weight: bold\">mightybart </span><span style=\"color: #008000\">created comment on…</span><span style=\"color: #008000; font-style: italic\">florianka…</span><span style=\"color: #008000\">\"Current…</span>    🐛<span style=\"color: #ff00ff; font-weight: bold\">jonathannagu…</span><span style=\"color: #ff00ff\">opened issue #23 …</span><span style=\"color: #ff00ff; font-style: italic\">navikt/m…</span><span style=\"color: #ff00ff\">\"Access …</span>  \n",
       "  💬<span style=\"color: #008000; font-weight: bold\">Joulinar </span><span style=\"color: #008000\">created comment on …</span><span style=\"color: #008000; font-style: italic\">MichaIng/…</span><span style=\"color: #008000\">\"Hi,    m…</span>    🐛<span style=\"color: #ff00ff; font-weight: bold\">aisaioop </span><span style=\"color: #ff00ff\">opened issue #1599 …</span><span style=\"color: #ff00ff; font-style: italic\">aisaioop/…</span><span style=\"color: #ff00ff\">\"上海黄浦 </span>  \n",
       "  💬<span style=\"color: #008000; font-weight: bold\">9mm </span><span style=\"color: #008000\">created comment on iss…</span><span style=\"color: #008000; font-style: italic\">rubycdp/fe…</span><span style=\"color: #008000\">\"@route ho…</span>    🐛<span style=\"color: #ff00ff; font-weight: bold\">helmrich </span><span style=\"color: #ff00ff\">opened issue #27 on </span><span style=\"color: #ff00ff; font-style: italic\">vinceliui…</span><span style=\"color: #ff00ff\">\"Spotify …</span>  \n",
       "  💬<span style=\"color: #008000; font-weight: bold\">dependabot[b…</span><span style=\"color: #008000\">created comment o…</span><span style=\"color: #008000; font-style: italic\">herzliya…</span><span style=\"color: #008000\">\"Looks l…</span>    🐛<span style=\"color: #ff00ff; font-weight: bold\">github-actio…</span><span style=\"color: #ff00ff\">opened issue #204…</span><span style=\"color: #ff00ff; font-style: italic\">Sakzsee/…</span><span style=\"color: #ff00ff\">\"Error u…</span>  \n",
       "  💬<span style=\"color: #008000; font-weight: bold\">codepope </span><span style=\"color: #008000\">created comment on …</span><span style=\"color: #008000; font-style: italic\">superfly/…</span><span style=\"color: #008000\">\"That's i…</span>    🐛<span style=\"color: #ff00ff; font-weight: bold\">aisaioop </span><span style=\"color: #ff00ff\">opened issue #1600 …</span><span style=\"color: #ff00ff; font-style: italic\">aisaioop/…</span><span style=\"color: #ff00ff\">\"北京门头 </span>  \n",
       "  💬<span style=\"color: #008000; font-weight: bold\">poelzi </span><span style=\"color: #008000\">created comment on i…</span><span style=\"color: #008000; font-style: italic\">mixxxdj/mi…</span><span style=\"color: #008000\">\"@Be-ing …</span>    🎁<span style=\"color: #ff00ff; font-weight: bold\">glutamate </span><span style=\"color: #ff00ff\">closed issue #466 o…</span><span style=\"color: #ff00ff; font-style: italic\">saltcorn/…</span><span style=\"color: #ff00ff\">\"Forgott…</span>  \n",
       "  💬<span style=\"color: #008000; font-weight: bold\">ethindp </span><span style=\"color: #008000\">created comment on i…</span><span style=\"color: #008000; font-style: italic\">rust-osde…</span><span style=\"color: #008000\">\"I disagr…</span>    🐛<span style=\"color: #ff00ff; font-weight: bold\">autocode-app…</span><span style=\"color: #ff00ff\">opened issue #793…</span><span style=\"color: #ff00ff; font-style: italic\">imamandr…</span><span style=\"color: #ff00ff\">\"https:/…</span>  \n",
       "  💬<span style=\"color: #008000; font-weight: bold\">michaelforne…</span><span style=\"color: #008000\">created comment o…</span><span style=\"color: #008000; font-style: italic\">oasislin…</span><span style=\"color: #008000\">\"Thanks …</span>    🎁<span style=\"color: #ff00ff; font-weight: bold\">sanskritbscs </span><span style=\"color: #ff00ff\">closed issue #3 o…</span><span style=\"color: #ff00ff; font-style: italic\">sanskrit…</span><span style=\"color: #ff00ff\">\"somethi…</span>  \n",
       "  💬<span style=\"color: #008000; font-weight: bold\">stale[bot] </span><span style=\"color: #008000\">created comment on…</span><span style=\"color: #008000; font-style: italic\">ironhack-…</span><span style=\"color: #008000\">\"This pu…</span>    🐛<span style=\"color: #ff00ff; font-weight: bold\">aisaioop </span><span style=\"color: #ff00ff\">opened issue #1601 …</span><span style=\"color: #ff00ff; font-style: italic\">aisaioop/…</span><span style=\"color: #ff00ff\">\"上海宝山 </span>  \n",
       "  💬<span style=\"color: #008000; font-weight: bold\">awolf78 </span><span style=\"color: #008000\">created comment on i…</span><span style=\"color: #008000; font-style: italic\">ImpulseRC…</span><span style=\"color: #008000\">\"If you p…</span>    🐛<span style=\"color: #ff00ff; font-weight: bold\">slingamn </span><span style=\"color: #ff00ff\">opened issue #1455 …</span><span style=\"color: #ff00ff; font-style: italic\">oragono/o…</span><span style=\"color: #ff00ff\">\"split ma…</span>  \n",
       " ─────────────────────────────────────────────────────  ───────────────────────────────────────────────────── \n",
       " ─────────────────── Pull Request ────────────────────  ──────────────── Pull Request Review ──────────────── \n",
       "  📪<span style=\"color: #000080; font-weight: bold\">alexerlandss…</span><span style=\"color: #000080\">closed PR #5 on </span><span style=\"color: #000080; font-style: italic\">alexerlan…</span><span style=\"color: #000080\">\"Bump ini…</span>                                                         \n",
       "  📬<span style=\"color: #000080; font-weight: bold\">constancefer…</span><span style=\"color: #000080\">opened PR #85 on </span><span style=\"color: #000080; font-style: italic\">lucienwal…</span><span style=\"color: #000080\">\"week 5 …</span>                                                         \n",
       "  📬<span style=\"color: #000080; font-weight: bold\">jyshangguan </span><span style=\"color: #000080\">opened PR #1 on </span><span style=\"color: #000080; font-style: italic\">jyshanggua…</span><span style=\"color: #000080\">\"add imag…</span>    💌<span style=\"color: #800080; font-weight: bold\">kadirselcuk </span><span style=\"color: #800080\">created PR review …</span><span style=\"color: #800080; font-style: italic\">turkdevops/node</span>     \n",
       "  📪<span style=\"color: #000080; font-weight: bold\">Ryukishi </span><span style=\"color: #000080\">closed PR #2 on </span><span style=\"color: #000080; font-style: italic\">adibhanna/m…</span><span style=\"color: #000080\">\"Feature/pr…</span>    💌<span style=\"color: #800080; font-weight: bold\">mobinmob </span><span style=\"color: #800080\">created PR review i…</span><span style=\"color: #800080; font-style: italic\">void-linux/void-pac…</span>  \n",
       "  📪<span style=\"color: #000080; font-weight: bold\">ahocevar </span><span style=\"color: #000080\">closed PR #11811 on </span><span style=\"color: #000080; font-style: italic\">openlayer…</span><span style=\"color: #000080\">\"Better g…</span>    💌<span style=\"color: #800080; font-weight: bold\">swatso2020 </span><span style=\"color: #800080\">created PR review …</span><span style=\"color: #800080; font-style: italic\">swatso2020/Project3</span>  \n",
       "  📬<span style=\"color: #000080; font-weight: bold\">snyk-bot </span><span style=\"color: #000080\">opened PR #84 on </span><span style=\"color: #000080; font-style: italic\">stelthdroid…</span><span style=\"color: #000080\">\"[Snyk] Se…</span>    💌<span style=\"color: #800080; font-weight: bold\">github-learn…</span><span style=\"color: #800080\">created PR review…</span><span style=\"color: #800080; font-style: italic\">theaioat…</span><span style=\"color: #800080\">\"## Step…</span>  \n",
       "  📪<span style=\"color: #000080; font-weight: bold\">mennovanemme…</span><span style=\"color: #000080\">closed PR #27 on </span><span style=\"color: #000080; font-style: italic\">Softimist…</span><span style=\"color: #000080\">\"Ship Mo…</span>    💌<span style=\"color: #800080; font-weight: bold\">ASchwad </span><span style=\"color: #800080\">created PR review in </span><span style=\"color: #800080; font-style: italic\">reaviz/reaflow</span>        \n",
       "  📪<span style=\"color: #000080; font-weight: bold\">Chramox </span><span style=\"color: #000080\">closed PR #4 on </span><span style=\"color: #000080; font-style: italic\">Chramox/tytu…</span><span style=\"color: #000080\">\"Update\"</span>        💌<span style=\"color: #800080; font-weight: bold\">francinaPons </span><span style=\"color: #800080\">created PR review…</span><span style=\"color: #800080; font-style: italic\">UB-ES-2020-A/Grup…</span>  \n",
       "  📪<span style=\"color: #000080; font-weight: bold\">gabriel-hahn </span><span style=\"color: #000080\">closed PR #128 on </span><span style=\"color: #000080; font-style: italic\">gabriel-…</span><span style=\"color: #000080\">\"Bump @s…</span>    💌<span style=\"color: #800080; font-weight: bold\">aaronPeruga </span><span style=\"color: #800080\">created PR review …</span><span style=\"color: #800080; font-style: italic\">UB-ES-2020-A/Grup…</span>  \n",
       "  📬<span style=\"color: #000080; font-weight: bold\">distantnativ…</span><span style=\"color: #000080\">opened PR #1103 o…</span><span style=\"color: #000080; font-style: italic\">getkirby…</span><span style=\"color: #000080\">\"Remove …</span>    💌<span style=\"color: #800080; font-weight: bold\">ahocevar </span><span style=\"color: #800080\">created PR review i…</span><span style=\"color: #800080; font-style: italic\">openlayer…</span><span style=\"color: #800080\">\"Thanks, …</span>  \n",
       "  📬<span style=\"color: #000080; font-weight: bold\">pull[bot] </span><span style=\"color: #000080\">opened PR #534 on </span><span style=\"color: #000080; font-style: italic\">antosubash…</span><span style=\"color: #000080\">\"[pull] d…</span>    💌<span style=\"color: #800080; font-weight: bold\">nedbat </span><span style=\"color: #800080\">created PR review in </span><span style=\"color: #800080; font-style: italic\">nedbat/scriv</span>           \n",
       "  📪<span style=\"color: #000080; font-weight: bold\">yakirgot </span><span style=\"color: #000080\">closed PR #1 on </span><span style=\"color: #000080; font-style: italic\">yakirgot/sn…</span><span style=\"color: #000080\">\"chore(deps…</span>    💌<span style=\"color: #800080; font-weight: bold\">nedbat </span><span style=\"color: #800080\">created PR review in </span><span style=\"color: #800080; font-style: italic\">nedbat/scriv</span>           \n",
       "  📪<span style=\"color: #000080; font-weight: bold\">mergify[bot] </span><span style=\"color: #000080\">closed PR #4 on </span><span style=\"color: #000080; font-style: italic\">spbu-codi…</span><span style=\"color: #000080\">\"Исправле…</span>    💌<span style=\"color: #800080; font-weight: bold\">mennovanemme…</span><span style=\"color: #800080\">created PR review…</span><span style=\"color: #800080; font-style: italic\">Softimistic/Proje…</span>  \n",
       "  🔁<span style=\"color: #000080; font-weight: bold\">stringcode86 </span><span style=\"color: #000080\">reopened PR #2051…</span><span style=\"color: #000080; font-style: italic\">MetaMask…</span><span style=\"color: #000080\">\"[1984] …</span>    💌<span style=\"color: #800080; font-weight: bold\">i-stam </span><span style=\"color: #800080\">created PR review in </span><span style=\"color: #800080; font-style: italic\">Synthetixio/synthetix</span>  \n",
       "  📪<span style=\"color: #000080; font-weight: bold\">dependabot[b…</span><span style=\"color: #000080\">closed PR #3 on </span><span style=\"color: #000080; font-style: italic\">herzliya-…</span><span style=\"color: #000080\">\"Bump ini…</span>    💌<span style=\"color: #800080; font-weight: bold\">gmolinga </span><span style=\"color: #800080\">created PR review i…</span><span style=\"color: #800080; font-style: italic\">UB-ES-2020-A/Grup-ES</span>  \n",
       " ─────────────────────────────────────────────────────  ───────────────────────────────────────────────────── \n",
       "</pre>\n"
      ],
      "text/plain": [
       "<rich.table.Table at 0x7fe1e8ae7160>"
      ]
     },
     "execution_count": 14,
     "metadata": {},
     "output_type": "execute_result"
    }
   ],
   "source": [
    "for k,v in ps.items(): v.extend(evts.filter(risinstance(k)))\n",
    "isc,iss,prs,prrs = ps.values()\n",
    "grid([[isc,iss],[prs,prrs]], width=110)"
   ]
  },
  {
   "cell_type": "markdown",
   "metadata": {},
   "source": [
    "## Animated Stats\n",
    "\n",
    "This section outlines how we can display statistics and visualizations such as sparklines and status bars that are animated as events are received."
   ]
  },
  {
   "cell_type": "markdown",
   "metadata": {},
   "source": [
    "### `EProg` - Progress Bar"
   ]
  },
  {
   "cell_type": "code",
   "execution_count": 15,
   "metadata": {},
   "outputs": [],
   "source": [
    "class EProg:\n",
    "    \"Progress bar with a heading `hdg`.\"\n",
    "    def __init__(self, hdg='Quota', width=10):\n",
    "        self.prog = Progress(BarColumn(bar_width=width), \"[progress.percentage]{task.percentage:>3.0f}%\")\n",
    "        self.task = self.prog.add_task(\"\",total=100, visible=False)\n",
    "        store_attr()\n",
    "    def update(self, completed): self.prog.update(self.task, completed=completed)\n",
    "    def __rich_console__(self, console: Console, options: ConsoleOptions):\n",
    "        self.prog.update(self.task, visible=True)\n",
    "        yield grid([[\"Quota\"], [self.prog.get_renderable()]], width=self.width+2, expand=False)\n"
   ]
  },
  {
   "cell_type": "markdown",
   "metadata": {},
   "source": [
    "When you instantiate `Eprog` the starting progress is set to 0%:"
   ]
  },
  {
   "cell_type": "code",
   "execution_count": 16,
   "metadata": {},
   "outputs": [
    {
     "data": {
      "application/vnd.jupyter.widget-view+json": {
       "model_id": "a31e6f95a6dd41f684d5ad5d6a9873b2",
       "version_major": 2,
       "version_minor": 0
      },
      "text/plain": [
       "Output()"
      ]
     },
     "metadata": {},
     "output_type": "display_data"
    },
    {
     "data": {
      "text/html": [
       "<pre style=\"white-space:pre;overflow-x:auto;line-height:normal;font-family:Menlo,'DejaVu Sans Mono',consolas,'Courier New',monospace\">   Quota    \n",
       "<span style=\"color: #3a3a3a\">━━━━━━━</span> <span style=\"color: #800080\">  0%</span>\n",
       "</pre>\n"
      ],
      "text/plain": [
       "<rich.jupyter.JupyterRenderable at 0x7fe1c8817280>"
      ]
     },
     "metadata": {},
     "output_type": "display_data"
    }
   ],
   "source": [
    "p = EProg()\n",
    "console.print(p)"
   ]
  },
  {
   "cell_type": "markdown",
   "metadata": {},
   "source": [
    "You can update the progress bar with the `update` method:"
   ]
  },
  {
   "cell_type": "code",
   "execution_count": 17,
   "metadata": {},
   "outputs": [
    {
     "data": {
      "text/html": [
       "<pre style=\"white-space:pre;overflow-x:auto;line-height:normal;font-family:Menlo,'DejaVu Sans Mono',consolas,'Courier New',monospace\">   Quota    \n",
       "<span style=\"color: #f92672\">╸</span><span style=\"color: #3a3a3a\">━━━━━━</span> <span style=\"color: #800080\"> 10%</span>\n",
       "</pre>\n"
      ],
      "text/plain": [
       "<rich.jupyter.JupyterRenderable at 0x7fe1c88171c0>"
      ]
     },
     "metadata": {},
     "output_type": "display_data"
    }
   ],
   "source": [
    "p.update(10)\n",
    "console.print(p)"
   ]
  },
  {
   "cell_type": "markdown",
   "metadata": {},
   "source": [
    "### `Espark` - A sparkline combined with an EventTimer"
   ]
  },
  {
   "cell_type": "code",
   "execution_count": 18,
   "metadata": {},
   "outputs": [],
   "source": [
    "class ESpark(EventTimer):\n",
    "    \"An `EventTimer` that displays a sparkline with a heading `nm`.\"\n",
    "    def __init__(self, color, nm, store=5, span=.2, stacked=True): \n",
    "        super().__init__(store=store, span=span)\n",
    "        store_attr()\n",
    "    def _spark(self): return f\"[{self.color}]{self.freq:.0f} {sparkline(self.hist)}[/]\"\n",
    "    def _nm(self): return f\"[{self.color}]{self.nm}[/]\"\n",
    "    def __rich_console__(self, console: Console, options: ConsoleOptions): \n",
    "        yield grid([[self._nm()], [self._spark()]]) if self.stacked else f'{self._nm()}  {self._spark()}'"
   ]
  },
  {
   "cell_type": "markdown",
   "metadata": {},
   "source": [
    "By default `nm` will be stacked on top of the sparkline like this:"
   ]
  },
  {
   "cell_type": "code",
   "execution_count": 19,
   "metadata": {},
   "outputs": [
    {
     "data": {
      "text/html": [
       "<pre style=\"white-space:pre;overflow-x:auto;line-height:normal;font-family:Menlo,'DejaVu Sans Mono',consolas,'Courier New',monospace\">                                           <span style=\"color: #000080\">💌Issue</span>                                           \n",
       "                                          <span style=\"color: #000080\">138 ▃▇▁▂▅</span>                                          \n",
       "</pre>\n"
      ],
      "text/plain": [
       "<rich.jupyter.JupyterRenderable at 0x7fe1c885c550>"
      ]
     },
     "metadata": {},
     "output_type": "display_data"
    }
   ],
   "source": [
    "e = ESpark(color='blue', nm='💌Issue')\n",
    "\n",
    "def _r(): return random.randint(1,30)\n",
    "\n",
    "def _sim(e, steps=8, sleep=.1):\n",
    "    for i in range(steps):\n",
    "        e.add(_r())\n",
    "        time.sleep(sleep)\n",
    "\n",
    "_sim(e)\n",
    "console.print(e)"
   ]
  },
  {
   "cell_type": "markdown",
   "metadata": {},
   "source": [
    "If you would prefer `nm` and the sparkline to be on one line instead, you can set `stacked` to `false`:"
   ]
  },
  {
   "cell_type": "code",
   "execution_count": 20,
   "metadata": {},
   "outputs": [
    {
     "data": {
      "text/html": [
       "<pre style=\"white-space:pre;overflow-x:auto;line-height:normal;font-family:Menlo,'DejaVu Sans Mono',consolas,'Courier New',monospace\"><span style=\"color: #000080\">💌Issue</span>  <span style=\"color: #000080\">111 ▅▆▇▁▁</span>\n",
       "</pre>\n"
      ],
      "text/plain": [
       "<rich.jupyter.JupyterRenderable at 0x7fe1e8a0f910>"
      ]
     },
     "metadata": {},
     "output_type": "display_data"
    }
   ],
   "source": [
    "e = ESpark(color='blue', nm='💌Issue', stacked=False)\n",
    "_sim(e)\n",
    "console.print(e)"
   ]
  },
  {
   "cell_type": "markdown",
   "metadata": {},
   "source": [
    "### SparkGrp - Sparklines, Progress bars and Statistics Combined"
   ]
  },
  {
   "cell_type": "code",
   "execution_count": 21,
   "metadata": {},
   "outputs": [],
   "source": [
    "SparkCfg = namedtuple('Sparkcfg', ['color', 'nm'])\n",
    "\n",
    "class SparkGrp:\n",
    "    \"Renders a group of `ESpark` along with a spinner and progress bar that are dynamically sized.\"\n",
    "    def __init__(self, spks:List[SparkCfg], store=5, span=.2, stacked=True, max_width=console.width-5, spn:Spinner=Spinner('earth'), spn_lbl=\"/min\"):\n",
    "        self.sparklines = OrderedDict({s.nm: ESpark(color=s.color, nm=s.nm, store=store, span=span, stacked=stacked) for s in spks})\n",
    "        self.slen = len(self.sparklines) * max(15, store*2)\n",
    "        self.plen = max(max_width-self.slen-15, 15)\n",
    "        self.progbar = EProg(width=self.plen)\n",
    "        store_attr()\n",
    "        \n",
    "    def get_spk(self): \n",
    "        return grid([self.sparklines.values()], width=min(console.width-15, self.slen), expand=False)\n",
    "    \n",
    "    def get_spinner(self): return grid([[self.spn], [self.spn_lbl]])\n",
    "    \n",
    "    def update(self, events_dict:Dict[str,int], pct_complete:int=None):\n",
    "        for k in events_dict: self.sparklines[k].add(events_dict[k])\n",
    "        if pct_complete: self.progbar.update(pct_complete)\n",
    "        \n",
    "    def __rich_console__(self, console: Console, options: ConsoleOptions): \n",
    "        yield grid([[self.get_spinner(), self.get_spk(), grid([[self.progbar]], width=self.plen+5) ]], width=self.max_width)\n"
   ]
  },
  {
   "cell_type": "markdown",
   "metadata": {},
   "source": [
    "Instantiate a `SparkGrp` by passing in a list of `SparkCfg`.  This builds a group of `ESpark` sparklines which you can display like so:"
   ]
  },
  {
   "cell_type": "code",
   "execution_count": 22,
   "metadata": {},
   "outputs": [
    {
     "data": {
      "application/vnd.jupyter.widget-view+json": {
       "model_id": "c575c87718e2422089ab9d5f30d34a97",
       "version_major": 2,
       "version_minor": 0
      },
      "text/plain": [
       "Output()"
      ]
     },
     "metadata": {},
     "output_type": "display_data"
    },
    {
     "data": {
      "text/html": [
       "<pre style=\"white-space:pre;overflow-x:auto;line-height:normal;font-family:Menlo,'DejaVu Sans Mono',consolas,'Courier New',monospace\"> 🌍      <span style=\"color: #000080\">⭐Push</span>         <span style=\"color: #800000\">🎁Issue</span>         <span style=\"color: #af00ff\">💌PRs</span>        <span style=\"color: #008000\">🚀Release</span>            Quota         \n",
       "/min        <span style=\"color: #000080\">0</span>              <span style=\"color: #800000\">0</span>              <span style=\"color: #af00ff\">0</span>              <span style=\"color: #008000\">0</span>          <span style=\"color: #3a3a3a\">━━━━━━━━━━━━</span> <span style=\"color: #800080\">  0%</span>   \n",
       "</pre>\n"
      ],
      "text/plain": [
       "<rich.jupyter.JupyterRenderable at 0x7fe1e8a54a00>"
      ]
     },
     "metadata": {},
     "output_type": "display_data"
    }
   ],
   "source": [
    "s = SparkGrp([SparkCfg('blue', '⭐Push'), \n",
    "              SparkCfg('red', '🎁Issue'), \n",
    "              SparkCfg('purple', '💌PRs'),\n",
    "              SparkCfg('green', '🚀Release'), \n",
    "             ], stacked=True)\n",
    "\n",
    "console.print(s)"
   ]
  },
  {
   "cell_type": "markdown",
   "metadata": {},
   "source": [
    "You can add events to all `ESpark` instances of the `SparkGrp` at once by passing a dictionary to the `update` method.  Furthermore, you can pass the `pct_complete` argument to `update` to advance the progress bar:"
   ]
  },
  {
   "cell_type": "code",
   "execution_count": 23,
   "metadata": {},
   "outputs": [
    {
     "data": {
      "text/html": [
       "<pre style=\"white-space:pre;overflow-x:auto;line-height:normal;font-family:Menlo,'DejaVu Sans Mono',consolas,'Courier New',monospace\"> 🌍      <span style=\"color: #000080\">⭐Push</span>         <span style=\"color: #800000\">🎁Issue</span>         <span style=\"color: #af00ff\">💌PRs</span>        <span style=\"color: #008000\">🚀Release</span>            Quota         \n",
       "/min       <span style=\"color: #000080\">78</span>             <span style=\"color: #800000\">93</span>             <span style=\"color: #af00ff\">348</span>            <span style=\"color: #008000\">339</span>         <span style=\"color: #f92672\">━━━━╸</span><span style=\"color: #3a3a3a\">━━━━━━━</span> <span style=\"color: #800080\"> 40%</span>   \n",
       "</pre>\n"
      ],
      "text/plain": [
       "<rich.jupyter.JupyterRenderable at 0x7fe1e8a3bc10>"
      ]
     },
     "metadata": {},
     "output_type": "display_data"
    }
   ],
   "source": [
    "def _d(): return {'⭐Push':_r(), '🎁Issue':_r(), '💌PRs':_r(), '🚀Release':_r()}\n",
    "\n",
    "s.update(_d())\n",
    "time.sleep(.1)\n",
    "s.update(_d(), pct_complete=40)\n",
    "\n",
    "console.print(s)"
   ]
  },
  {
   "cell_type": "markdown",
   "metadata": {},
   "source": [
    "Here is what this looks like when animated using `Live`:"
   ]
  },
  {
   "cell_type": "code",
   "execution_count": 24,
   "metadata": {},
   "outputs": [
    {
     "data": {
      "application/vnd.jupyter.widget-view+json": {
       "model_id": "fc3d99a4c21043e49c08b43115931e57",
       "version_major": 2,
       "version_minor": 0
      },
      "text/plain": [
       "Output()"
      ]
     },
     "metadata": {},
     "output_type": "display_data"
    }
   ],
   "source": [
    "def _sim_spark(s, sleep=.05):\n",
    "    with Live(refresh_per_second=20) as live:\n",
    "        for i in range(101):\n",
    "            evts = {k: _r() for k in s.sparklines.keys()}\n",
    "            s.update(evts, pct_complete=i)\n",
    "            live.update(s)\n",
    "            time.sleep(sleep)\n",
    "            \n",
    "_sim_spark(s)"
   ]
  },
  {
   "cell_type": "markdown",
   "metadata": {},
   "source": [
    "The progress bar will automatically resize depending on the number of sparklines you add to `SparkGrp`.  For example, if we only have one sparkline the width of objects dynamically change to look like this:"
   ]
  },
  {
   "cell_type": "code",
   "execution_count": 25,
   "metadata": {},
   "outputs": [
    {
     "data": {
      "application/vnd.jupyter.widget-view+json": {
       "model_id": "b1b05a0aa29a4f46b3310a407abee5f8",
       "version_major": 2,
       "version_minor": 0
      },
      "text/plain": [
       "Output()"
      ]
     },
     "metadata": {},
     "output_type": "display_data"
    },
    {
     "data": {
      "application/vnd.jupyter.widget-view+json": {
       "model_id": "163c39a8faab45da9344601cc63c28e0",
       "version_major": 2,
       "version_minor": 0
      },
      "text/plain": [
       "Output()"
      ]
     },
     "metadata": {},
     "output_type": "display_data"
    }
   ],
   "source": [
    "s = SparkGrp([SparkCfg('blue', 'foo')], store=20, stacked=True)\n",
    "_sim_spark(s)"
   ]
  },
  {
   "cell_type": "markdown",
   "metadata": {},
   "source": [
    "## Appendix\n",
    "\n",
    "### Jeremy's Old Code"
   ]
  },
  {
   "cell_type": "code",
   "execution_count": 26,
   "metadata": {},
   "outputs": [
    {
     "data": {
      "text/html": [
       "<pre style=\"white-space:pre;overflow-x:auto;line-height:normal;font-family:Menlo,'DejaVu Sans Mono',consolas,'Courier New',monospace\">  🌍    ⭐Push   🎁<span style=\"color: #ff00ff\">Issue</span>    💌<span style=\"color: #000080\">PRs</span>     🚀<span style=\"color: #008080\">Release</span>          Quota        \n",
       " /min  89 ▇▅▂▁   <span style=\"color: #ff00ff\">38 ▇▅▂▁</span>   <span style=\"color: #000080\">19 ▇▅▂▁</span>     <span style=\"color: #008080\">22 ▇▅▂▁</span>   <span style=\"color: #3a3a3a\">━━━━━━━━</span>          0% \n",
       "</pre>\n"
      ],
      "text/plain": [
       "<rich.table.Table at 0x7fe1e89e33d0>"
      ]
     },
     "execution_count": 26,
     "metadata": {},
     "output_type": "execute_result"
    }
   ],
   "source": [
    "s = Spinner('earth')\n",
    "def prog(o): return RenderGroup(ProgressBar(total=100, completed=o, width=8), f' {o/100:.0%}')\n",
    "spk = sparkline([4,3,2,1])\n",
    "\n",
    "def f(o):\n",
    "    g = grid([[s, '⭐Push', '🎁[bright_magenta]Issue', '💌[blue]PRs[/]', '🚀[cyan]Release[/]', 'Quota'],\n",
    "              ['/min', '89 ' + spk, f'[bright_magenta]38 {spk}[/]', f'[blue]19 {spk}[/]', f'[cyan]22 {spk}[/]', prog(o)]\n",
    "             ], width=min(console.width,70))\n",
    "    for c in g.columns[:-1]: c.title_justify = c.justify = 'center'\n",
    "    g.columns[-1].width = 15\n",
    "    return g\n",
    "\n",
    "t = f(0)\n",
    "t"
   ]
  },
  {
   "cell_type": "code",
   "execution_count": 27,
   "metadata": {},
   "outputs": [
    {
     "data": {
      "application/vnd.jupyter.widget-view+json": {
       "model_id": "e1288eb16cde455c960979b88bcd76dd",
       "version_major": 2,
       "version_minor": 0
      },
      "text/plain": [
       "Output()"
      ]
     },
     "metadata": {},
     "output_type": "display_data"
    }
   ],
   "source": [
    "with Live(refresh_per_second=20) as live:\n",
    "    for o in range(1,15):\n",
    "        live.update(f(o))\n",
    "        time.sleep(0.1)"
   ]
  },
  {
   "cell_type": "code",
   "execution_count": null,
   "metadata": {},
   "outputs": [],
   "source": []
  }
 ],
 "metadata": {
  "kernelspec": {
   "display_name": "Python 3",
   "language": "python",
   "name": "python3"
  },
  "language_info": {
   "codemirror_mode": {
    "name": "ipython",
    "version": 3
   },
   "file_extension": ".py",
   "mimetype": "text/x-python",
   "name": "python",
   "nbconvert_exporter": "python",
   "pygments_lexer": "ipython3",
   "version": "3.8.3"
  }
 },
 "nbformat": 4,
 "nbformat_minor": 4
}
